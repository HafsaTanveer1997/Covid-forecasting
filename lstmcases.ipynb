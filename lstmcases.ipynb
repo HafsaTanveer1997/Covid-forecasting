{
 "cells": [
  {
   "cell_type": "code",
   "execution_count": 1,
   "metadata": {},
   "outputs": [],
   "source": [
    "\n",
    "# imports \n",
    "import numpy as np\n",
    "from numpy import *\n",
    "import matplotlib.pyplot as plt\n",
    "from matplotlib.pyplot import *\n",
    "import matplotlib.image as mpimg\n",
    "import cv2\n",
    "window_name = 'image'\n",
    "#matplotlib inline\n",
    "# The 8 x 8 DCT matrix thus looks like this.\n",
    "N = 8\n",
    "dct = np.zeros((N, N))\n",
    "for x in range(N):\n",
    "    dct[0,x] = sqrt(2.0/N) / sqrt(2.0)\n",
    "for u in range(1,N):\n",
    "    for x in range(N):\n",
    "        dct[u,x] = sqrt(2.0/N) * cos((pi/N) * u * (x + 0.5) )\n",
    "        \n",
    "np.set_printoptions(precision=3)\n",
    "dct_transpose = dct.transpose()\n",
    "dct_transpose\n",
    "cv2.imshow(window_name,dct)\n",
    "#(this is necessary to avoid Python kernel form crashing)\n",
    "cv2.waitKey(0) \n",
    "  \n",
    "#closing all open windows \n",
    "cv2.destroyAllWindows() "
   ]
  },
  {
   "cell_type": "code",
   "execution_count": null,
   "metadata": {},
   "outputs": [],
   "source": []
  }
 ],
 "metadata": {
  "kernelspec": {
   "display_name": "Python 3",
   "language": "python",
   "name": "python3"
  },
  "language_info": {
   "codemirror_mode": {
    "name": "ipython",
    "version": 3
   },
   "file_extension": ".py",
   "mimetype": "text/x-python",
   "name": "python",
   "nbconvert_exporter": "python",
   "pygments_lexer": "ipython3",
   "version": "3.7.4"
  }
 },
 "nbformat": 4,
 "nbformat_minor": 2
}
