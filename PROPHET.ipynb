{
 "cells": [
  {
   "cell_type": "code",
   "execution_count": 31,
   "metadata": {},
   "outputs": [],
   "source": [
    "# Python\n",
    "import pandas as pd\n",
    "from fbprophet import Prophet\n",
    "import numpy as np\n",
    "import pandas as pd\n",
    "import math\n",
    "import matplotlib.pylab as plt\n",
    "df_pr= pd.read_csv(\"total case for arima.csv\")\n",
    "df_pr['cap'] = 300\n",
    "b = df_pr.iloc[1:663]\n",
    "train_data_pr = df_pr.iloc[:len(df_pr)-60]\n",
    "test_data_pr = df_pr.iloc[len(df_pr)-60:len(df_pr)-30]\n",
    "new=df_pr.iloc[len(df_pr)-30:]\n",
    "from fbprophet import Prophet\n"
   ]
  },
  {
   "cell_type": "code",
   "execution_count": 32,
   "metadata": {},
   "outputs": [
    {
     "name": "stdout",
     "output_type": "stream",
     "text": [
      "(639, 5)\n",
      "(30, 5)\n",
      "(30, 5)\n",
      "(662, 5)\n"
     ]
    }
   ],
   "source": [
    "print(train_data_pr.shape)\n",
    "print(test_data_pr.shape)\n",
    "print(new.shape)\n",
    "print(b.shape)"
   ]
  },
  {
   "cell_type": "code",
   "execution_count": 33,
   "metadata": {},
   "outputs": [],
   "source": [
    "def mean_absolute_percentage_error(y_true, y_pred): \n",
    "    y_true, y_pred = np.array(y_true), np.array(y_pred)\n",
    "    return np.mean(np.abs((y_true - y_pred) / y_true)) * 100"
   ]
  },
  {
   "cell_type": "code",
   "execution_count": 5,
   "metadata": {},
   "outputs": [
    {
     "name": "stdout",
     "output_type": "stream",
     "text": [
      "Total Possible Models 200\n"
     ]
    }
   ],
   "source": [
    "from sklearn.model_selection import ParameterGrid\n",
    "params_grid = {'seasonality_mode':('multiplicative','additive'),\n",
    "               'changepoint_prior_scale':[0.1,0.2,0.3,0.4,0.5],\n",
    "              'holidays_prior_scale':[0.1,0.2,0.3,0.4,0.5],\n",
    "              'n_changepoints' : [25,50,75,100]}\n",
    "grid = ParameterGrid(params_grid)\n",
    "cnt = 0\n",
    "for p in grid:\n",
    "    cnt = cnt+1\n",
    "\n",
    "print('Total Possible Models',cnt)"
   ]
  },
  {
   "cell_type": "code",
   "execution_count": 6,
   "metadata": {},
   "outputs": [
    {
     "data": {
      "text/html": [
       "<div>\n",
       "<style scoped>\n",
       "    .dataframe tbody tr th:only-of-type {\n",
       "        vertical-align: middle;\n",
       "    }\n",
       "\n",
       "    .dataframe tbody tr th {\n",
       "        vertical-align: top;\n",
       "    }\n",
       "\n",
       "    .dataframe thead th {\n",
       "        text-align: right;\n",
       "    }\n",
       "</style>\n",
       "<table border=\"1\" class=\"dataframe\">\n",
       "  <thead>\n",
       "    <tr style=\"text-align: right;\">\n",
       "      <th></th>\n",
       "      <th>ds</th>\n",
       "      <th>holiday</th>\n",
       "    </tr>\n",
       "  </thead>\n",
       "  <tbody>\n",
       "    <tr>\n",
       "      <td>0</td>\n",
       "      <td>2020-01-01</td>\n",
       "      <td>US-Holidays</td>\n",
       "    </tr>\n",
       "    <tr>\n",
       "      <td>1</td>\n",
       "      <td>2020-01-20</td>\n",
       "      <td>US-Holidays</td>\n",
       "    </tr>\n",
       "    <tr>\n",
       "      <td>2</td>\n",
       "      <td>2020-02-17</td>\n",
       "      <td>US-Holidays</td>\n",
       "    </tr>\n",
       "    <tr>\n",
       "      <td>3</td>\n",
       "      <td>2020-05-25</td>\n",
       "      <td>US-Holidays</td>\n",
       "    </tr>\n",
       "    <tr>\n",
       "      <td>4</td>\n",
       "      <td>2020-07-03</td>\n",
       "      <td>US-Holidays</td>\n",
       "    </tr>\n",
       "    <tr>\n",
       "      <td>5</td>\n",
       "      <td>2020-07-04</td>\n",
       "      <td>US-Holidays</td>\n",
       "    </tr>\n",
       "    <tr>\n",
       "      <td>6</td>\n",
       "      <td>2020-09-07</td>\n",
       "      <td>US-Holidays</td>\n",
       "    </tr>\n",
       "    <tr>\n",
       "      <td>7</td>\n",
       "      <td>2020-10-12</td>\n",
       "      <td>US-Holidays</td>\n",
       "    </tr>\n",
       "    <tr>\n",
       "      <td>8</td>\n",
       "      <td>2020-11-11</td>\n",
       "      <td>US-Holidays</td>\n",
       "    </tr>\n",
       "    <tr>\n",
       "      <td>9</td>\n",
       "      <td>2020-11-26</td>\n",
       "      <td>US-Holidays</td>\n",
       "    </tr>\n",
       "    <tr>\n",
       "      <td>10</td>\n",
       "      <td>2020-12-25</td>\n",
       "      <td>US-Holidays</td>\n",
       "    </tr>\n",
       "  </tbody>\n",
       "</table>\n",
       "</div>"
      ],
      "text/plain": [
       "           ds      holiday\n",
       "0  2020-01-01  US-Holidays\n",
       "1  2020-01-20  US-Holidays\n",
       "2  2020-02-17  US-Holidays\n",
       "3  2020-05-25  US-Holidays\n",
       "4  2020-07-03  US-Holidays\n",
       "5  2020-07-04  US-Holidays\n",
       "6  2020-09-07  US-Holidays\n",
       "7  2020-10-12  US-Holidays\n",
       "8  2020-11-11  US-Holidays\n",
       "9  2020-11-26  US-Holidays\n",
       "10 2020-12-25  US-Holidays"
      ]
     },
     "execution_count": 6,
     "metadata": {},
     "output_type": "execute_result"
    }
   ],
   "source": [
    "import holidays\n",
    "holiday = pd.DataFrame([])\n",
    "for date, name in sorted(holidays.UnitedStates(years=[2020]).items()):\n",
    "    holiday = holiday.append(pd.DataFrame({'ds': date, 'holiday': \"US-Holidays\"}, index=[0]), ignore_index=True)\n",
    "holiday['ds'] = pd.to_datetime(holiday['ds'], format='%Y-%m-%d', errors='ignore')\n",
    "holiday"
   ]
  },
  {
   "cell_type": "code",
   "execution_count": 7,
   "metadata": {},
   "outputs": [
    {
     "name": "stdout",
     "output_type": "stream",
     "text": [
      "{'changepoint_prior_scale': 0.1, 'holidays_prior_scale': 0.1, 'n_changepoints': 25, 'seasonality_mode': 'multiplicative'}\n"
     ]
    },
    {
     "name": "stderr",
     "output_type": "stream",
     "text": [
      "INFO:numexpr.utils:NumExpr defaulting to 4 threads.\n",
      "INFO:fbprophet:Disabling daily seasonality. Run prophet with daily_seasonality=True to override this.\n",
      "INFO:fbprophet:Disabling daily seasonality. Run prophet with daily_seasonality=True to override this.\n"
     ]
    },
    {
     "name": "stdout",
     "output_type": "stream",
     "text": [
      "Time took 1.9218 s\n",
      "1644573514.9163945\n",
      "1644573516.8381588\n",
      "Mean Absolute Percentage Error(MAPE)------------------------------------ 47.37743583230001\n",
      "{'changepoint_prior_scale': 0.1, 'holidays_prior_scale': 0.1, 'n_changepoints': 25, 'seasonality_mode': 'additive'}\n"
     ]
    },
    {
     "name": "stderr",
     "output_type": "stream",
     "text": [
      "INFO:fbprophet:Disabling daily seasonality. Run prophet with daily_seasonality=True to override this.\n"
     ]
    },
    {
     "name": "stdout",
     "output_type": "stream",
     "text": [
      "Time took 1.8499 s\n",
      "1644573517.6596713\n",
      "1644573519.50961\n",
      "Mean Absolute Percentage Error(MAPE)------------------------------------ 41.35046553779912\n",
      "{'changepoint_prior_scale': 0.1, 'holidays_prior_scale': 0.1, 'n_changepoints': 50, 'seasonality_mode': 'multiplicative'}\n"
     ]
    },
    {
     "name": "stderr",
     "output_type": "stream",
     "text": [
      "INFO:fbprophet:Disabling daily seasonality. Run prophet with daily_seasonality=True to override this.\n"
     ]
    },
    {
     "name": "stdout",
     "output_type": "stream",
     "text": [
      "Time took 1.8879 s\n",
      "1644573519.9724262\n",
      "1644573521.8603475\n",
      "Mean Absolute Percentage Error(MAPE)------------------------------------ 47.37743583230001\n",
      "{'changepoint_prior_scale': 0.1, 'holidays_prior_scale': 0.1, 'n_changepoints': 50, 'seasonality_mode': 'additive'}\n"
     ]
    },
    {
     "name": "stderr",
     "output_type": "stream",
     "text": [
      "INFO:fbprophet:Disabling daily seasonality. Run prophet with daily_seasonality=True to override this.\n"
     ]
    },
    {
     "name": "stdout",
     "output_type": "stream",
     "text": [
      "Time took 1.8509 s\n",
      "1644573522.692985\n",
      "1644573524.5439248\n",
      "Mean Absolute Percentage Error(MAPE)------------------------------------ 41.35046553779912\n",
      "{'changepoint_prior_scale': 0.1, 'holidays_prior_scale': 0.1, 'n_changepoints': 75, 'seasonality_mode': 'multiplicative'}\n",
      "Time took 1.8599 s\n",
      "1644573525.012173\n",
      "1644573526.8721085\n",
      "Mean Absolute Percentage Error(MAPE)------------------------------------ 47.37743583230001\n",
      "{'changepoint_prior_scale': 0.1, 'holidays_prior_scale': 0.1, 'n_changepoints': 75, 'seasonality_mode': 'additive'}\n"
     ]
    },
    {
     "name": "stderr",
     "output_type": "stream",
     "text": [
      "INFO:fbprophet:Disabling daily seasonality. Run prophet with daily_seasonality=True to override this.\n",
      "INFO:fbprophet:Disabling daily seasonality. Run prophet with daily_seasonality=True to override this.\n"
     ]
    },
    {
     "name": "stdout",
     "output_type": "stream",
     "text": [
      "Time took 1.8000 s\n",
      "1644573529.1152122\n",
      "1644573530.9151795\n",
      "Mean Absolute Percentage Error(MAPE)------------------------------------ 41.35046553779912\n",
      "{'changepoint_prior_scale': 0.1, 'holidays_prior_scale': 0.1, 'n_changepoints': 100, 'seasonality_mode': 'multiplicative'}\n"
     ]
    },
    {
     "name": "stderr",
     "output_type": "stream",
     "text": [
      "INFO:fbprophet:Disabling daily seasonality. Run prophet with daily_seasonality=True to override this.\n"
     ]
    },
    {
     "name": "stdout",
     "output_type": "stream",
     "text": [
      "Time took 1.8759 s\n",
      "1644573531.3956923\n",
      "1644573533.2716205\n",
      "Mean Absolute Percentage Error(MAPE)------------------------------------ 47.37743583230001\n",
      "{'changepoint_prior_scale': 0.1, 'holidays_prior_scale': 0.1, 'n_changepoints': 100, 'seasonality_mode': 'additive'}\n"
     ]
    },
    {
     "name": "stderr",
     "output_type": "stream",
     "text": [
      "INFO:fbprophet:Disabling daily seasonality. Run prophet with daily_seasonality=True to override this.\n"
     ]
    },
    {
     "name": "stdout",
     "output_type": "stream",
     "text": [
      "Time took 1.8060 s\n",
      "1644573534.0612998\n",
      "1644573535.867279\n",
      "Mean Absolute Percentage Error(MAPE)------------------------------------ 41.35046553779912\n",
      "{'changepoint_prior_scale': 0.1, 'holidays_prior_scale': 0.2, 'n_changepoints': 25, 'seasonality_mode': 'multiplicative'}\n"
     ]
    },
    {
     "name": "stderr",
     "output_type": "stream",
     "text": [
      "INFO:fbprophet:Disabling daily seasonality. Run prophet with daily_seasonality=True to override this.\n"
     ]
    },
    {
     "name": "stdout",
     "output_type": "stream",
     "text": [
      "Time took 1.8609 s\n",
      "1644573536.808044\n",
      "1644573538.6689787\n",
      "Mean Absolute Percentage Error(MAPE)------------------------------------ 48.39632280612929\n",
      "{'changepoint_prior_scale': 0.1, 'holidays_prior_scale': 0.2, 'n_changepoints': 25, 'seasonality_mode': 'additive'}\n"
     ]
    },
    {
     "name": "stderr",
     "output_type": "stream",
     "text": [
      "INFO:fbprophet:Disabling daily seasonality. Run prophet with daily_seasonality=True to override this.\n"
     ]
    },
    {
     "name": "stdout",
     "output_type": "stream",
     "text": [
      "Time took 1.9619 s\n",
      "1644573539.3166084\n",
      "1644573541.2784855\n",
      "Mean Absolute Percentage Error(MAPE)------------------------------------ 40.9471438050265\n",
      "{'changepoint_prior_scale': 0.1, 'holidays_prior_scale': 0.2, 'n_changepoints': 50, 'seasonality_mode': 'multiplicative'}\n"
     ]
    },
    {
     "name": "stderr",
     "output_type": "stream",
     "text": [
      "INFO:fbprophet:Disabling daily seasonality. Run prophet with daily_seasonality=True to override this.\n"
     ]
    },
    {
     "name": "stdout",
     "output_type": "stream",
     "text": [
      "Time took 1.8120 s\n",
      "1644573542.18297\n",
      "1644573543.994931\n",
      "Mean Absolute Percentage Error(MAPE)------------------------------------ 48.39632280612929\n",
      "{'changepoint_prior_scale': 0.1, 'holidays_prior_scale': 0.2, 'n_changepoints': 50, 'seasonality_mode': 'additive'}\n"
     ]
    },
    {
     "name": "stderr",
     "output_type": "stream",
     "text": [
      "INFO:fbprophet:Disabling daily seasonality. Run prophet with daily_seasonality=True to override this.\n"
     ]
    },
    {
     "name": "stdout",
     "output_type": "stream",
     "text": [
      "Time took 1.8919 s\n",
      "1644573544.6300602\n",
      "1644573546.521998\n",
      "Mean Absolute Percentage Error(MAPE)------------------------------------ 40.9471438050265\n",
      "{'changepoint_prior_scale': 0.1, 'holidays_prior_scale': 0.2, 'n_changepoints': 75, 'seasonality_mode': 'multiplicative'}\n",
      "Time took 1.8429 s\n",
      "1644573547.430446\n",
      "1644573549.273391\n",
      "Mean Absolute Percentage Error(MAPE)------------------------------------ 48.39632280612929\n",
      "{'changepoint_prior_scale': 0.1, 'holidays_prior_scale': 0.2, 'n_changepoints': 75, 'seasonality_mode': 'additive'}\n"
     ]
    },
    {
     "name": "stderr",
     "output_type": "stream",
     "text": [
      "INFO:fbprophet:Disabling daily seasonality. Run prophet with daily_seasonality=True to override this.\n",
      "INFO:fbprophet:Disabling daily seasonality. Run prophet with daily_seasonality=True to override this.\n"
     ]
    },
    {
     "name": "stdout",
     "output_type": "stream",
     "text": [
      "Time took 1.9809 s\n",
      "1644573550.012966\n",
      "1644573551.993834\n",
      "Mean Absolute Percentage Error(MAPE)------------------------------------ 40.9471438050265\n",
      "{'changepoint_prior_scale': 0.1, 'holidays_prior_scale': 0.2, 'n_changepoints': 100, 'seasonality_mode': 'multiplicative'}\n"
     ]
    },
    {
     "name": "stderr",
     "output_type": "stream",
     "text": [
      "INFO:fbprophet:Disabling daily seasonality. Run prophet with daily_seasonality=True to override this.\n"
     ]
    },
    {
     "name": "stdout",
     "output_type": "stream",
     "text": [
      "Time took 1.8949 s\n",
      "1644573553.0022578\n",
      "1644573554.8971906\n",
      "Mean Absolute Percentage Error(MAPE)------------------------------------ 48.39632280612929\n",
      "{'changepoint_prior_scale': 0.1, 'holidays_prior_scale': 0.2, 'n_changepoints': 100, 'seasonality_mode': 'additive'}\n"
     ]
    },
    {
     "name": "stderr",
     "output_type": "stream",
     "text": [
      "INFO:fbprophet:Disabling daily seasonality. Run prophet with daily_seasonality=True to override this.\n"
     ]
    },
    {
     "name": "stdout",
     "output_type": "stream",
     "text": [
      "Time took 1.8819 s\n",
      "1644573555.5245645\n",
      "1644573557.4064882\n",
      "Mean Absolute Percentage Error(MAPE)------------------------------------ 40.9471438050265\n",
      "{'changepoint_prior_scale': 0.1, 'holidays_prior_scale': 0.3, 'n_changepoints': 25, 'seasonality_mode': 'multiplicative'}\n"
     ]
    },
    {
     "name": "stderr",
     "output_type": "stream",
     "text": [
      "INFO:fbprophet:Disabling daily seasonality. Run prophet with daily_seasonality=True to override this.\n"
     ]
    },
    {
     "name": "stdout",
     "output_type": "stream",
     "text": [
      "Time took 1.8649 s\n",
      "1644573558.075105\n",
      "1644573559.9400182\n",
      "Mean Absolute Percentage Error(MAPE)------------------------------------ 49.37221366585929\n",
      "{'changepoint_prior_scale': 0.1, 'holidays_prior_scale': 0.3, 'n_changepoints': 25, 'seasonality_mode': 'additive'}\n"
     ]
    },
    {
     "name": "stderr",
     "output_type": "stream",
     "text": [
      "INFO:fbprophet:Disabling daily seasonality. Run prophet with daily_seasonality=True to override this.\n"
     ]
    },
    {
     "name": "stdout",
     "output_type": "stream",
     "text": [
      "Time took 1.8480 s\n",
      "1644573560.7116702\n",
      "1644573562.5596333\n",
      "Mean Absolute Percentage Error(MAPE)------------------------------------ 40.881210339672855\n",
      "{'changepoint_prior_scale': 0.1, 'holidays_prior_scale': 0.3, 'n_changepoints': 50, 'seasonality_mode': 'multiplicative'}\n"
     ]
    },
    {
     "name": "stderr",
     "output_type": "stream",
     "text": [
      "INFO:fbprophet:Disabling daily seasonality. Run prophet with daily_seasonality=True to override this.\n"
     ]
    },
    {
     "name": "stdout",
     "output_type": "stream",
     "text": [
      "Time took 1.8300 s\n",
      "1644573563.227849\n",
      "1644573565.057801\n",
      "Mean Absolute Percentage Error(MAPE)------------------------------------ 49.37221366585929\n",
      "{'changepoint_prior_scale': 0.1, 'holidays_prior_scale': 0.3, 'n_changepoints': 50, 'seasonality_mode': 'additive'}\n"
     ]
    },
    {
     "name": "stderr",
     "output_type": "stream",
     "text": [
      "INFO:fbprophet:Disabling daily seasonality. Run prophet with daily_seasonality=True to override this.\n"
     ]
    },
    {
     "name": "stdout",
     "output_type": "stream",
     "text": [
      "Time took 1.9419 s\n",
      "1644573566.9320045\n",
      "1644573568.8738952\n",
      "Mean Absolute Percentage Error(MAPE)------------------------------------ 40.881210339672855\n",
      "{'changepoint_prior_scale': 0.1, 'holidays_prior_scale': 0.3, 'n_changepoints': 75, 'seasonality_mode': 'multiplicative'}\n"
     ]
    },
    {
     "name": "stderr",
     "output_type": "stream",
     "text": [
      "INFO:fbprophet:Disabling daily seasonality. Run prophet with daily_seasonality=True to override this.\n"
     ]
    },
    {
     "name": "stdout",
     "output_type": "stream",
     "text": [
      "Time took 1.8929 s\n",
      "1644573569.5804274\n",
      "1644573571.4733424\n",
      "Mean Absolute Percentage Error(MAPE)------------------------------------ 49.37221366585929\n",
      "{'changepoint_prior_scale': 0.1, 'holidays_prior_scale': 0.3, 'n_changepoints': 75, 'seasonality_mode': 'additive'}\n"
     ]
    },
    {
     "name": "stderr",
     "output_type": "stream",
     "text": [
      "INFO:fbprophet:Disabling daily seasonality. Run prophet with daily_seasonality=True to override this.\n"
     ]
    },
    {
     "name": "stdout",
     "output_type": "stream",
     "text": [
      "Time took 1.8539 s\n",
      "1644573572.2559114\n",
      "1644573574.1098545\n",
      "Mean Absolute Percentage Error(MAPE)------------------------------------ 40.881210339672855\n",
      "{'changepoint_prior_scale': 0.1, 'holidays_prior_scale': 0.3, 'n_changepoints': 100, 'seasonality_mode': 'multiplicative'}\n"
     ]
    },
    {
     "name": "stderr",
     "output_type": "stream",
     "text": [
      "INFO:fbprophet:Disabling daily seasonality. Run prophet with daily_seasonality=True to override this.\n"
     ]
    },
    {
     "name": "stdout",
     "output_type": "stream",
     "text": [
      "Time took 2.1588 s\n",
      "1644573574.7597084\n",
      "1644573576.9184732\n",
      "Mean Absolute Percentage Error(MAPE)------------------------------------ 49.37221366585929\n",
      "{'changepoint_prior_scale': 0.1, 'holidays_prior_scale': 0.3, 'n_changepoints': 100, 'seasonality_mode': 'additive'}\n"
     ]
    },
    {
     "name": "stderr",
     "output_type": "stream",
     "text": [
      "INFO:fbprophet:Disabling daily seasonality. Run prophet with daily_seasonality=True to override this.\n"
     ]
    },
    {
     "name": "stdout",
     "output_type": "stream",
     "text": [
      "Time took 2.1538 s\n",
      "1644573579.2251515\n",
      "1644573581.37892\n",
      "Mean Absolute Percentage Error(MAPE)------------------------------------ 40.881210339672855\n",
      "{'changepoint_prior_scale': 0.1, 'holidays_prior_scale': 0.4, 'n_changepoints': 25, 'seasonality_mode': 'multiplicative'}\n"
     ]
    },
    {
     "name": "stderr",
     "output_type": "stream",
     "text": [
      "INFO:fbprophet:Disabling daily seasonality. Run prophet with daily_seasonality=True to override this.\n"
     ]
    },
    {
     "name": "stdout",
     "output_type": "stream",
     "text": [
      "Time took 1.8040 s\n",
      "1644573582.0726948\n",
      "1644573583.8766668\n",
      "Mean Absolute Percentage Error(MAPE)------------------------------------ 49.22393940820937\n",
      "{'changepoint_prior_scale': 0.1, 'holidays_prior_scale': 0.4, 'n_changepoints': 25, 'seasonality_mode': 'additive'}\n"
     ]
    },
    {
     "name": "stderr",
     "output_type": "stream",
     "text": [
      "INFO:fbprophet:Disabling daily seasonality. Run prophet with daily_seasonality=True to override this.\n"
     ]
    },
    {
     "name": "stdout",
     "output_type": "stream",
     "text": [
      "Time took 1.8040 s\n",
      "1644573584.5404787\n",
      "1644573586.3444448\n",
      "Mean Absolute Percentage Error(MAPE)------------------------------------ 40.81055958785008\n",
      "{'changepoint_prior_scale': 0.1, 'holidays_prior_scale': 0.4, 'n_changepoints': 50, 'seasonality_mode': 'multiplicative'}\n"
     ]
    },
    {
     "name": "stderr",
     "output_type": "stream",
     "text": [
      "INFO:fbprophet:Disabling daily seasonality. Run prophet with daily_seasonality=True to override this.\n"
     ]
    },
    {
     "name": "stdout",
     "output_type": "stream",
     "text": [
      "Time took 1.8580 s\n",
      "1644573587.0438404\n",
      "1644573588.9017978\n",
      "Mean Absolute Percentage Error(MAPE)------------------------------------ 49.22393940820937\n",
      "{'changepoint_prior_scale': 0.1, 'holidays_prior_scale': 0.4, 'n_changepoints': 50, 'seasonality_mode': 'additive'}\n"
     ]
    },
    {
     "name": "stderr",
     "output_type": "stream",
     "text": [
      "INFO:fbprophet:Disabling daily seasonality. Run prophet with daily_seasonality=True to override this.\n"
     ]
    },
    {
     "name": "stdout",
     "output_type": "stream",
     "text": [
      "Time took 1.8829 s\n",
      "1644573589.5676925\n",
      "1644573591.450614\n",
      "Mean Absolute Percentage Error(MAPE)------------------------------------ 40.81055958785008\n",
      "{'changepoint_prior_scale': 0.1, 'holidays_prior_scale': 0.4, 'n_changepoints': 75, 'seasonality_mode': 'multiplicative'}\n"
     ]
    },
    {
     "name": "stderr",
     "output_type": "stream",
     "text": [
      "INFO:fbprophet:Disabling daily seasonality. Run prophet with daily_seasonality=True to override this.\n"
     ]
    },
    {
     "name": "stdout",
     "output_type": "stream",
     "text": [
      "Time took 1.8749 s\n",
      "1644573592.1805837\n",
      "1644573594.0555313\n",
      "Mean Absolute Percentage Error(MAPE)------------------------------------ 49.22393940820937\n",
      "{'changepoint_prior_scale': 0.1, 'holidays_prior_scale': 0.4, 'n_changepoints': 75, 'seasonality_mode': 'additive'}\n"
     ]
    },
    {
     "name": "stderr",
     "output_type": "stream",
     "text": [
      "INFO:fbprophet:Disabling daily seasonality. Run prophet with daily_seasonality=True to override this.\n"
     ]
    },
    {
     "name": "stdout",
     "output_type": "stream",
     "text": [
      "Time took 1.8130 s\n",
      "1644573594.740103\n",
      "1644573596.5530827\n",
      "Mean Absolute Percentage Error(MAPE)------------------------------------ 40.81055958785008\n",
      "{'changepoint_prior_scale': 0.1, 'holidays_prior_scale': 0.4, 'n_changepoints': 100, 'seasonality_mode': 'multiplicative'}\n"
     ]
    },
    {
     "name": "stderr",
     "output_type": "stream",
     "text": [
      "INFO:fbprophet:Disabling daily seasonality. Run prophet with daily_seasonality=True to override this.\n"
     ]
    },
    {
     "name": "stdout",
     "output_type": "stream",
     "text": [
      "Time took 1.8479 s\n",
      "1644573597.2436879\n",
      "1644573599.0916307\n",
      "Mean Absolute Percentage Error(MAPE)------------------------------------ 49.22393940820937\n",
      "{'changepoint_prior_scale': 0.1, 'holidays_prior_scale': 0.4, 'n_changepoints': 100, 'seasonality_mode': 'additive'}\n"
     ]
    },
    {
     "name": "stderr",
     "output_type": "stream",
     "text": [
      "INFO:fbprophet:Disabling daily seasonality. Run prophet with daily_seasonality=True to override this.\n"
     ]
    },
    {
     "name": "stdout",
     "output_type": "stream",
     "text": [
      "Time took 1.9679 s\n",
      "1644573599.774222\n",
      "1644573601.742113\n",
      "Mean Absolute Percentage Error(MAPE)------------------------------------ 40.81055958785008\n",
      "{'changepoint_prior_scale': 0.1, 'holidays_prior_scale': 0.5, 'n_changepoints': 25, 'seasonality_mode': 'multiplicative'}\n"
     ]
    },
    {
     "name": "stderr",
     "output_type": "stream",
     "text": [
      "INFO:fbprophet:Disabling daily seasonality. Run prophet with daily_seasonality=True to override this.\n"
     ]
    },
    {
     "name": "stdout",
     "output_type": "stream",
     "text": [
      "Time took 1.8260 s\n",
      "1644573602.2677948\n",
      "1644573604.093747\n",
      "Mean Absolute Percentage Error(MAPE)------------------------------------ 50.646284849873155\n",
      "{'changepoint_prior_scale': 0.1, 'holidays_prior_scale': 0.5, 'n_changepoints': 25, 'seasonality_mode': 'additive'}\n",
      "Time took 2.0148 s\n",
      "1644573604.7928567\n",
      "1644573606.807705\n",
      "Mean Absolute Percentage Error(MAPE)------------------------------------ 40.82327370417389\n",
      "{'changepoint_prior_scale': 0.1, 'holidays_prior_scale': 0.5, 'n_changepoints': 50, 'seasonality_mode': 'multiplicative'}\n"
     ]
    },
    {
     "name": "stderr",
     "output_type": "stream",
     "text": [
      "INFO:fbprophet:Disabling daily seasonality. Run prophet with daily_seasonality=True to override this.\n",
      "INFO:fbprophet:Disabling daily seasonality. Run prophet with daily_seasonality=True to override this.\n"
     ]
    },
    {
     "name": "stdout",
     "output_type": "stream",
     "text": [
      "Time took 1.9909 s\n",
      "1644573607.4613307\n",
      "1644573609.4521902\n",
      "Mean Absolute Percentage Error(MAPE)------------------------------------ 50.646284849873155\n",
      "{'changepoint_prior_scale': 0.1, 'holidays_prior_scale': 0.5, 'n_changepoints': 50, 'seasonality_mode': 'additive'}\n"
     ]
    },
    {
     "name": "stderr",
     "output_type": "stream",
     "text": [
      "INFO:fbprophet:Disabling daily seasonality. Run prophet with daily_seasonality=True to override this.\n"
     ]
    },
    {
     "name": "stdout",
     "output_type": "stream",
     "text": [
      "Time took 2.7055 s\n",
      "1644573610.3546777\n",
      "1644573613.0601459\n",
      "Mean Absolute Percentage Error(MAPE)------------------------------------ 40.82327370417389\n",
      "{'changepoint_prior_scale': 0.1, 'holidays_prior_scale': 0.5, 'n_changepoints': 75, 'seasonality_mode': 'multiplicative'}\n"
     ]
    },
    {
     "name": "stderr",
     "output_type": "stream",
     "text": [
      "INFO:fbprophet:Disabling daily seasonality. Run prophet with daily_seasonality=True to override this.\n"
     ]
    },
    {
     "name": "stdout",
     "output_type": "stream",
     "text": [
      "Time took 1.9389 s\n",
      "1644573613.5883625\n",
      "1644573615.5272393\n",
      "Mean Absolute Percentage Error(MAPE)------------------------------------ 50.646284849873155\n",
      "{'changepoint_prior_scale': 0.1, 'holidays_prior_scale': 0.5, 'n_changepoints': 75, 'seasonality_mode': 'additive'}\n",
      "Time took 2.7604 s\n",
      "1644573616.231716\n",
      "1644573618.9921443\n",
      "Mean Absolute Percentage Error(MAPE)------------------------------------ 40.82327370417389\n",
      "{'changepoint_prior_scale': 0.1, 'holidays_prior_scale': 0.5, 'n_changepoints': 100, 'seasonality_mode': 'multiplicative'}\n"
     ]
    },
    {
     "name": "stderr",
     "output_type": "stream",
     "text": [
      "INFO:fbprophet:Disabling daily seasonality. Run prophet with daily_seasonality=True to override this.\n",
      "INFO:fbprophet:Disabling daily seasonality. Run prophet with daily_seasonality=True to override this.\n"
     ]
    },
    {
     "name": "stdout",
     "output_type": "stream",
     "text": [
      "Time took 2.1768 s\n",
      "1644573619.8839831\n",
      "1644573622.0607405\n",
      "Mean Absolute Percentage Error(MAPE)------------------------------------ 50.646284849873155\n",
      "{'changepoint_prior_scale': 0.1, 'holidays_prior_scale': 0.5, 'n_changepoints': 100, 'seasonality_mode': 'additive'}\n",
      "Time took 3.1422 s\n",
      "1644573622.8922985\n",
      "1644573626.0344815\n",
      "Mean Absolute Percentage Error(MAPE)------------------------------------ 40.82327370417389\n",
      "{'changepoint_prior_scale': 0.2, 'holidays_prior_scale': 0.1, 'n_changepoints': 25, 'seasonality_mode': 'multiplicative'}\n"
     ]
    },
    {
     "name": "stderr",
     "output_type": "stream",
     "text": [
      "INFO:fbprophet:Disabling daily seasonality. Run prophet with daily_seasonality=True to override this.\n",
      "INFO:fbprophet:Disabling daily seasonality. Run prophet with daily_seasonality=True to override this.\n"
     ]
    },
    {
     "name": "stdout",
     "output_type": "stream",
     "text": [
      "Time took 1.9509 s\n",
      "1644573627.1215556\n",
      "1644573629.0724587\n",
      "Mean Absolute Percentage Error(MAPE)------------------------------------ 55.03289250333609\n",
      "{'changepoint_prior_scale': 0.2, 'holidays_prior_scale': 0.1, 'n_changepoints': 25, 'seasonality_mode': 'additive'}\n"
     ]
    },
    {
     "name": "stderr",
     "output_type": "stream",
     "text": [
      "INFO:fbprophet:Disabling daily seasonality. Run prophet with daily_seasonality=True to override this.\n"
     ]
    },
    {
     "name": "stdout",
     "output_type": "stream",
     "text": [
      "Time took 2.5545 s\n",
      "1644573629.9421692\n",
      "1644573632.4967082\n",
      "Mean Absolute Percentage Error(MAPE)------------------------------------ 45.229836368254276\n",
      "{'changepoint_prior_scale': 0.2, 'holidays_prior_scale': 0.1, 'n_changepoints': 50, 'seasonality_mode': 'multiplicative'}\n"
     ]
    },
    {
     "name": "stderr",
     "output_type": "stream",
     "text": [
      "INFO:fbprophet:Disabling daily seasonality. Run prophet with daily_seasonality=True to override this.\n"
     ]
    },
    {
     "name": "stdout",
     "output_type": "stream",
     "text": [
      "Time took 2.1888 s\n",
      "1644573633.4057975\n",
      "1644573635.5945587\n",
      "Mean Absolute Percentage Error(MAPE)------------------------------------ 55.03289250333609\n",
      "{'changepoint_prior_scale': 0.2, 'holidays_prior_scale': 0.1, 'n_changepoints': 50, 'seasonality_mode': 'additive'}\n"
     ]
    },
    {
     "name": "stderr",
     "output_type": "stream",
     "text": [
      "INFO:fbprophet:Disabling daily seasonality. Run prophet with daily_seasonality=True to override this.\n"
     ]
    },
    {
     "name": "stdout",
     "output_type": "stream",
     "text": [
      "Time took 2.1528 s\n",
      "1644573636.5250123\n",
      "1644573638.6777937\n",
      "Mean Absolute Percentage Error(MAPE)------------------------------------ 45.229836368254276\n",
      "{'changepoint_prior_scale': 0.2, 'holidays_prior_scale': 0.1, 'n_changepoints': 75, 'seasonality_mode': 'multiplicative'}\n"
     ]
    },
    {
     "name": "stderr",
     "output_type": "stream",
     "text": [
      "INFO:fbprophet:Disabling daily seasonality. Run prophet with daily_seasonality=True to override this.\n"
     ]
    },
    {
     "name": "stdout",
     "output_type": "stream",
     "text": [
      "Time took 1.9719 s\n",
      "1644573639.581799\n",
      "1644573641.5536888\n",
      "Mean Absolute Percentage Error(MAPE)------------------------------------ 55.03289250333609\n",
      "{'changepoint_prior_scale': 0.2, 'holidays_prior_scale': 0.1, 'n_changepoints': 75, 'seasonality_mode': 'additive'}\n",
      "Time took 3.0932 s\n",
      "1644573642.4941294\n",
      "1644573645.587363\n",
      "Mean Absolute Percentage Error(MAPE)------------------------------------ 45.229836368254276\n",
      "{'changepoint_prior_scale': 0.2, 'holidays_prior_scale': 0.1, 'n_changepoints': 100, 'seasonality_mode': 'multiplicative'}\n"
     ]
    },
    {
     "name": "stderr",
     "output_type": "stream",
     "text": [
      "INFO:fbprophet:Disabling daily seasonality. Run prophet with daily_seasonality=True to override this.\n"
     ]
    },
    {
     "name": "stdout",
     "output_type": "stream",
     "text": [
      "Time took 2.2957 s\n",
      "1644573646.4902012\n",
      "1644573648.785892\n",
      "Mean Absolute Percentage Error(MAPE)------------------------------------ 55.03289250333609\n",
      "{'changepoint_prior_scale': 0.2, 'holidays_prior_scale': 0.1, 'n_changepoints': 100, 'seasonality_mode': 'additive'}\n"
     ]
    },
    {
     "name": "stderr",
     "output_type": "stream",
     "text": [
      "INFO:fbprophet:Disabling daily seasonality. Run prophet with daily_seasonality=True to override this.\n",
      "INFO:fbprophet:Disabling daily seasonality. Run prophet with daily_seasonality=True to override this.\n"
     ]
    },
    {
     "name": "stdout",
     "output_type": "stream",
     "text": [
      "Time took 2.5156 s\n",
      "1644573650.082733\n",
      "1644573652.598311\n",
      "Mean Absolute Percentage Error(MAPE)------------------------------------ 45.229836368254276\n",
      "{'changepoint_prior_scale': 0.2, 'holidays_prior_scale': 0.2, 'n_changepoints': 25, 'seasonality_mode': 'multiplicative'}\n"
     ]
    },
    {
     "name": "stderr",
     "output_type": "stream",
     "text": [
      "INFO:fbprophet:Disabling daily seasonality. Run prophet with daily_seasonality=True to override this.\n"
     ]
    },
    {
     "name": "stdout",
     "output_type": "stream",
     "text": [
      "Time took 2.1967 s\n",
      "1644573653.4777389\n",
      "1644573655.6744797\n",
      "Mean Absolute Percentage Error(MAPE)------------------------------------ 54.61616633792604\n",
      "{'changepoint_prior_scale': 0.2, 'holidays_prior_scale': 0.2, 'n_changepoints': 25, 'seasonality_mode': 'additive'}\n"
     ]
    },
    {
     "name": "stderr",
     "output_type": "stream",
     "text": [
      "INFO:fbprophet:Disabling daily seasonality. Run prophet with daily_seasonality=True to override this.\n"
     ]
    },
    {
     "name": "stdout",
     "output_type": "stream",
     "text": [
      "Time took 3.2192 s\n",
      "1644573656.6197891\n",
      "1644573659.8389442\n",
      "Mean Absolute Percentage Error(MAPE)------------------------------------ 45.57328145342232\n",
      "{'changepoint_prior_scale': 0.2, 'holidays_prior_scale': 0.2, 'n_changepoints': 50, 'seasonality_mode': 'multiplicative'}\n"
     ]
    },
    {
     "name": "stderr",
     "output_type": "stream",
     "text": [
      "INFO:fbprophet:Disabling daily seasonality. Run prophet with daily_seasonality=True to override this.\n"
     ]
    },
    {
     "name": "stdout",
     "output_type": "stream",
     "text": [
      "Time took 2.2337 s\n",
      "1644573660.7208774\n",
      "1644573662.9546194\n",
      "Mean Absolute Percentage Error(MAPE)------------------------------------ 54.61616633792604\n",
      "{'changepoint_prior_scale': 0.2, 'holidays_prior_scale': 0.2, 'n_changepoints': 50, 'seasonality_mode': 'additive'}\n"
     ]
    },
    {
     "name": "stderr",
     "output_type": "stream",
     "text": [
      "INFO:fbprophet:Disabling daily seasonality. Run prophet with daily_seasonality=True to override this.\n"
     ]
    },
    {
     "name": "stdout",
     "output_type": "stream",
     "text": [
      "Time took 2.0049 s\n",
      "1644573663.7101676\n",
      "1644573665.7150214\n",
      "Mean Absolute Percentage Error(MAPE)------------------------------------ 45.57328145342232\n",
      "{'changepoint_prior_scale': 0.2, 'holidays_prior_scale': 0.2, 'n_changepoints': 75, 'seasonality_mode': 'multiplicative'}\n"
     ]
    },
    {
     "name": "stderr",
     "output_type": "stream",
     "text": [
      "INFO:fbprophet:Disabling daily seasonality. Run prophet with daily_seasonality=True to override this.\n"
     ]
    },
    {
     "name": "stdout",
     "output_type": "stream",
     "text": [
      "Time took 1.8999 s\n",
      "1644573666.652654\n",
      "1644573668.5525627\n",
      "Mean Absolute Percentage Error(MAPE)------------------------------------ 54.61616633792604\n",
      "{'changepoint_prior_scale': 0.2, 'holidays_prior_scale': 0.2, 'n_changepoints': 75, 'seasonality_mode': 'additive'}\n"
     ]
    },
    {
     "name": "stderr",
     "output_type": "stream",
     "text": [
      "INFO:fbprophet:Disabling daily seasonality. Run prophet with daily_seasonality=True to override this.\n"
     ]
    },
    {
     "name": "stdout",
     "output_type": "stream",
     "text": [
      "Time took 1.9989 s\n",
      "1644573669.1595027\n",
      "1644573671.1583605\n",
      "Mean Absolute Percentage Error(MAPE)------------------------------------ 45.57328145342232\n",
      "{'changepoint_prior_scale': 0.2, 'holidays_prior_scale': 0.2, 'n_changepoints': 100, 'seasonality_mode': 'multiplicative'}\n"
     ]
    },
    {
     "name": "stderr",
     "output_type": "stream",
     "text": [
      "INFO:fbprophet:Disabling daily seasonality. Run prophet with daily_seasonality=True to override this.\n"
     ]
    },
    {
     "name": "stdout",
     "output_type": "stream",
     "text": [
      "Time took 2.0818 s\n",
      "1644573672.1198103\n",
      "1644573674.2016184\n",
      "Mean Absolute Percentage Error(MAPE)------------------------------------ 54.61616633792604\n",
      "{'changepoint_prior_scale': 0.2, 'holidays_prior_scale': 0.2, 'n_changepoints': 100, 'seasonality_mode': 'additive'}\n"
     ]
    },
    {
     "name": "stderr",
     "output_type": "stream",
     "text": [
      "INFO:fbprophet:Disabling daily seasonality. Run prophet with daily_seasonality=True to override this.\n"
     ]
    },
    {
     "name": "stdout",
     "output_type": "stream",
     "text": [
      "Time took 1.9019 s\n",
      "1644573674.9310331\n",
      "1644573676.832945\n",
      "Mean Absolute Percentage Error(MAPE)------------------------------------ 45.57328145342232\n",
      "{'changepoint_prior_scale': 0.2, 'holidays_prior_scale': 0.3, 'n_changepoints': 25, 'seasonality_mode': 'multiplicative'}\n"
     ]
    },
    {
     "name": "stderr",
     "output_type": "stream",
     "text": [
      "INFO:fbprophet:Disabling daily seasonality. Run prophet with daily_seasonality=True to override this.\n"
     ]
    },
    {
     "name": "stdout",
     "output_type": "stream",
     "text": [
      "Time took 2.0189 s\n",
      "1644573677.5505323\n",
      "1644573679.569397\n",
      "Mean Absolute Percentage Error(MAPE)------------------------------------ 55.65010175806624\n",
      "{'changepoint_prior_scale': 0.2, 'holidays_prior_scale': 0.3, 'n_changepoints': 25, 'seasonality_mode': 'additive'}\n"
     ]
    },
    {
     "name": "stderr",
     "output_type": "stream",
     "text": [
      "INFO:fbprophet:Disabling daily seasonality. Run prophet with daily_seasonality=True to override this.\n"
     ]
    },
    {
     "name": "stdout",
     "output_type": "stream",
     "text": [
      "Time took 2.5016 s\n",
      "1644573680.2849023\n",
      "1644573682.7864735\n",
      "Mean Absolute Percentage Error(MAPE)------------------------------------ 44.953222833725306\n",
      "{'changepoint_prior_scale': 0.2, 'holidays_prior_scale': 0.3, 'n_changepoints': 50, 'seasonality_mode': 'multiplicative'}\n"
     ]
    },
    {
     "name": "stderr",
     "output_type": "stream",
     "text": [
      "INFO:fbprophet:Disabling daily seasonality. Run prophet with daily_seasonality=True to override this.\n"
     ]
    },
    {
     "name": "stdout",
     "output_type": "stream",
     "text": [
      "Time took 2.4866 s\n",
      "1644573683.8517878\n",
      "1644573686.3383844\n",
      "Mean Absolute Percentage Error(MAPE)------------------------------------ 55.65010175806624\n",
      "{'changepoint_prior_scale': 0.2, 'holidays_prior_scale': 0.3, 'n_changepoints': 50, 'seasonality_mode': 'additive'}\n"
     ]
    },
    {
     "name": "stderr",
     "output_type": "stream",
     "text": [
      "INFO:fbprophet:Disabling daily seasonality. Run prophet with daily_seasonality=True to override this.\n"
     ]
    },
    {
     "name": "stdout",
     "output_type": "stream",
     "text": [
      "Time took 1.9449 s\n",
      "1644573686.9209843\n",
      "1644573688.865882\n",
      "Mean Absolute Percentage Error(MAPE)------------------------------------ 44.953222833725306\n",
      "{'changepoint_prior_scale': 0.2, 'holidays_prior_scale': 0.3, 'n_changepoints': 75, 'seasonality_mode': 'multiplicative'}\n",
      "Time took 2.4766 s\n",
      "1644573689.7070935\n",
      "1644573692.1836762\n",
      "Mean Absolute Percentage Error(MAPE)------------------------------------ 55.65010175806624\n",
      "{'changepoint_prior_scale': 0.2, 'holidays_prior_scale': 0.3, 'n_changepoints': 75, 'seasonality_mode': 'additive'}\n"
     ]
    },
    {
     "name": "stderr",
     "output_type": "stream",
     "text": [
      "INFO:fbprophet:Disabling daily seasonality. Run prophet with daily_seasonality=True to override this.\n",
      "INFO:fbprophet:Disabling daily seasonality. Run prophet with daily_seasonality=True to override this.\n"
     ]
    },
    {
     "name": "stdout",
     "output_type": "stream",
     "text": [
      "Time took 2.2347 s\n",
      "1644573693.290378\n",
      "1644573695.5251007\n",
      "Mean Absolute Percentage Error(MAPE)------------------------------------ 44.953222833725306\n",
      "{'changepoint_prior_scale': 0.2, 'holidays_prior_scale': 0.3, 'n_changepoints': 100, 'seasonality_mode': 'multiplicative'}\n",
      "Time took 2.7994 s\n",
      "1644573696.2841635\n",
      "1644573699.0835648\n",
      "Mean Absolute Percentage Error(MAPE)------------------------------------ 55.65010175806624\n",
      "{'changepoint_prior_scale': 0.2, 'holidays_prior_scale': 0.3, 'n_changepoints': 100, 'seasonality_mode': 'additive'}\n"
     ]
    },
    {
     "name": "stderr",
     "output_type": "stream",
     "text": [
      "INFO:fbprophet:Disabling daily seasonality. Run prophet with daily_seasonality=True to override this.\n"
     ]
    },
    {
     "name": "stdout",
     "output_type": "stream",
     "text": [
      "Time took 2.9523 s\n",
      "1644573699.9340773\n",
      "1644573702.8863866\n",
      "Mean Absolute Percentage Error(MAPE)------------------------------------ 44.953222833725306\n",
      "{'changepoint_prior_scale': 0.2, 'holidays_prior_scale': 0.4, 'n_changepoints': 25, 'seasonality_mode': 'multiplicative'}\n"
     ]
    },
    {
     "name": "stderr",
     "output_type": "stream",
     "text": [
      "INFO:fbprophet:Disabling daily seasonality. Run prophet with daily_seasonality=True to override this.\n"
     ]
    },
    {
     "name": "stdout",
     "output_type": "stream",
     "text": [
      "Time took 2.2577 s\n",
      "1644573704.0940516\n",
      "1644573706.3517573\n",
      "Mean Absolute Percentage Error(MAPE)------------------------------------ 56.17883292885417\n",
      "{'changepoint_prior_scale': 0.2, 'holidays_prior_scale': 0.4, 'n_changepoints': 25, 'seasonality_mode': 'additive'}\n"
     ]
    },
    {
     "name": "stderr",
     "output_type": "stream",
     "text": [
      "INFO:fbprophet:Disabling daily seasonality. Run prophet with daily_seasonality=True to override this.\n",
      "INFO:fbprophet:Disabling daily seasonality. Run prophet with daily_seasonality=True to override this.\n"
     ]
    },
    {
     "name": "stdout",
     "output_type": "stream",
     "text": [
      "Time took 2.3816 s\n",
      "1644573707.633045\n",
      "1644573710.0146601\n",
      "Mean Absolute Percentage Error(MAPE)------------------------------------ 45.331192847868586\n",
      "{'changepoint_prior_scale': 0.2, 'holidays_prior_scale': 0.4, 'n_changepoints': 50, 'seasonality_mode': 'multiplicative'}\n"
     ]
    },
    {
     "name": "stderr",
     "output_type": "stream",
     "text": [
      "INFO:fbprophet:Disabling daily seasonality. Run prophet with daily_seasonality=True to override this.\n"
     ]
    },
    {
     "name": "stdout",
     "output_type": "stream",
     "text": [
      "Time took 2.1737 s\n",
      "1644573711.0985107\n",
      "1644573713.2722447\n",
      "Mean Absolute Percentage Error(MAPE)------------------------------------ 56.17883292885417\n",
      "{'changepoint_prior_scale': 0.2, 'holidays_prior_scale': 0.4, 'n_changepoints': 50, 'seasonality_mode': 'additive'}\n"
     ]
    },
    {
     "name": "stderr",
     "output_type": "stream",
     "text": [
      "INFO:fbprophet:Disabling daily seasonality. Run prophet with daily_seasonality=True to override this.\n"
     ]
    },
    {
     "name": "stdout",
     "output_type": "stream",
     "text": [
      "Time took 1.9819 s\n",
      "1644573714.4958446\n",
      "1644573716.4777105\n",
      "Mean Absolute Percentage Error(MAPE)------------------------------------ 45.331192847868586\n",
      "{'changepoint_prior_scale': 0.2, 'holidays_prior_scale': 0.4, 'n_changepoints': 75, 'seasonality_mode': 'multiplicative'}\n"
     ]
    },
    {
     "name": "stderr",
     "output_type": "stream",
     "text": [
      "INFO:fbprophet:Disabling daily seasonality. Run prophet with daily_seasonality=True to override this.\n"
     ]
    },
    {
     "name": "stdout",
     "output_type": "stream",
     "text": [
      "Time took 1.9709 s\n",
      "1644573717.5770814\n",
      "1644573719.5479555\n",
      "Mean Absolute Percentage Error(MAPE)------------------------------------ 56.17883292885417\n",
      "{'changepoint_prior_scale': 0.2, 'holidays_prior_scale': 0.4, 'n_changepoints': 75, 'seasonality_mode': 'additive'}\n",
      "Time took 2.9613 s\n",
      "1644573720.4821067\n",
      "1644573723.4434187\n",
      "Mean Absolute Percentage Error(MAPE)------------------------------------ 45.331192847868586\n",
      "{'changepoint_prior_scale': 0.2, 'holidays_prior_scale': 0.4, 'n_changepoints': 100, 'seasonality_mode': 'multiplicative'}\n"
     ]
    },
    {
     "name": "stderr",
     "output_type": "stream",
     "text": [
      "INFO:fbprophet:Disabling daily seasonality. Run prophet with daily_seasonality=True to override this.\n",
      "INFO:fbprophet:Disabling daily seasonality. Run prophet with daily_seasonality=True to override this.\n"
     ]
    },
    {
     "name": "stdout",
     "output_type": "stream",
     "text": [
      "Time took 2.0138 s\n",
      "1644573724.5439243\n",
      "1644573726.5577507\n",
      "Mean Absolute Percentage Error(MAPE)------------------------------------ 56.17883292885417\n",
      "{'changepoint_prior_scale': 0.2, 'holidays_prior_scale': 0.4, 'n_changepoints': 100, 'seasonality_mode': 'additive'}\n"
     ]
    },
    {
     "name": "stderr",
     "output_type": "stream",
     "text": [
      "INFO:fbprophet:Disabling daily seasonality. Run prophet with daily_seasonality=True to override this.\n"
     ]
    },
    {
     "name": "stdout",
     "output_type": "stream",
     "text": [
      "Time took 1.9379 s\n",
      "1644573727.4912398\n",
      "1644573729.429109\n",
      "Mean Absolute Percentage Error(MAPE)------------------------------------ 45.331192847868586\n",
      "{'changepoint_prior_scale': 0.2, 'holidays_prior_scale': 0.5, 'n_changepoints': 25, 'seasonality_mode': 'multiplicative'}\n"
     ]
    },
    {
     "name": "stderr",
     "output_type": "stream",
     "text": [
      "INFO:fbprophet:Disabling daily seasonality. Run prophet with daily_seasonality=True to override this.\n"
     ]
    },
    {
     "name": "stdout",
     "output_type": "stream",
     "text": [
      "Time took 3.2801 s\n",
      "1644573730.7403603\n",
      "1644573734.02048\n",
      "Mean Absolute Percentage Error(MAPE)------------------------------------ 56.81648558642709\n",
      "{'changepoint_prior_scale': 0.2, 'holidays_prior_scale': 0.5, 'n_changepoints': 25, 'seasonality_mode': 'additive'}\n"
     ]
    },
    {
     "name": "stderr",
     "output_type": "stream",
     "text": [
      "INFO:fbprophet:Disabling daily seasonality. Run prophet with daily_seasonality=True to override this.\n"
     ]
    },
    {
     "name": "stdout",
     "output_type": "stream",
     "text": [
      "Time took 2.1168 s\n",
      "1644573734.8433554\n",
      "1644573736.9601414\n",
      "Mean Absolute Percentage Error(MAPE)------------------------------------ 45.74549987356449\n",
      "{'changepoint_prior_scale': 0.2, 'holidays_prior_scale': 0.5, 'n_changepoints': 50, 'seasonality_mode': 'multiplicative'}\n"
     ]
    },
    {
     "name": "stderr",
     "output_type": "stream",
     "text": [
      "INFO:fbprophet:Disabling daily seasonality. Run prophet with daily_seasonality=True to override this.\n"
     ]
    },
    {
     "name": "stdout",
     "output_type": "stream",
     "text": [
      "Time took 2.1598 s\n",
      "1644573738.1355157\n",
      "1644573740.2952785\n",
      "Mean Absolute Percentage Error(MAPE)------------------------------------ 56.81648558642709\n",
      "{'changepoint_prior_scale': 0.2, 'holidays_prior_scale': 0.5, 'n_changepoints': 50, 'seasonality_mode': 'additive'}\n"
     ]
    },
    {
     "name": "stderr",
     "output_type": "stream",
     "text": [
      "INFO:fbprophet:Disabling daily seasonality. Run prophet with daily_seasonality=True to override this.\n"
     ]
    },
    {
     "name": "stdout",
     "output_type": "stream",
     "text": [
      "Time took 2.0119 s\n",
      "1644573741.1074107\n",
      "1644573743.1192799\n",
      "Mean Absolute Percentage Error(MAPE)------------------------------------ 45.74549987356449\n",
      "{'changepoint_prior_scale': 0.2, 'holidays_prior_scale': 0.5, 'n_changepoints': 75, 'seasonality_mode': 'multiplicative'}\n"
     ]
    },
    {
     "name": "stderr",
     "output_type": "stream",
     "text": [
      "INFO:fbprophet:Disabling daily seasonality. Run prophet with daily_seasonality=True to override this.\n"
     ]
    },
    {
     "name": "stdout",
     "output_type": "stream",
     "text": [
      "Time took 2.1168 s\n",
      "1644573744.3645465\n",
      "1644573746.4813561\n",
      "Mean Absolute Percentage Error(MAPE)------------------------------------ 56.81648558642709\n",
      "{'changepoint_prior_scale': 0.2, 'holidays_prior_scale': 0.5, 'n_changepoints': 75, 'seasonality_mode': 'additive'}\n"
     ]
    },
    {
     "name": "stderr",
     "output_type": "stream",
     "text": [
      "INFO:fbprophet:Disabling daily seasonality. Run prophet with daily_seasonality=True to override this.\n"
     ]
    },
    {
     "name": "stdout",
     "output_type": "stream",
     "text": [
      "Time took 4.2176 s\n",
      "1644573747.5975432\n",
      "1644573751.8151262\n",
      "Mean Absolute Percentage Error(MAPE)------------------------------------ 45.74549987356449\n",
      "{'changepoint_prior_scale': 0.2, 'holidays_prior_scale': 0.5, 'n_changepoints': 100, 'seasonality_mode': 'multiplicative'}\n"
     ]
    },
    {
     "name": "stderr",
     "output_type": "stream",
     "text": [
      "INFO:fbprophet:Disabling daily seasonality. Run prophet with daily_seasonality=True to override this.\n"
     ]
    },
    {
     "name": "stdout",
     "output_type": "stream",
     "text": [
      "Time took 2.0678 s\n",
      "1644573753.3313\n",
      "1644573755.3991375\n",
      "Mean Absolute Percentage Error(MAPE)------------------------------------ 56.81648558642709\n",
      "{'changepoint_prior_scale': 0.2, 'holidays_prior_scale': 0.5, 'n_changepoints': 100, 'seasonality_mode': 'additive'}\n"
     ]
    },
    {
     "name": "stderr",
     "output_type": "stream",
     "text": [
      "INFO:fbprophet:Disabling daily seasonality. Run prophet with daily_seasonality=True to override this.\n"
     ]
    },
    {
     "name": "stdout",
     "output_type": "stream",
     "text": [
      "Time took 2.1588 s\n",
      "1644573756.1867926\n",
      "1644573758.3455575\n",
      "Mean Absolute Percentage Error(MAPE)------------------------------------ 45.74549987356449\n",
      "{'changepoint_prior_scale': 0.3, 'holidays_prior_scale': 0.1, 'n_changepoints': 25, 'seasonality_mode': 'multiplicative'}\n"
     ]
    },
    {
     "name": "stderr",
     "output_type": "stream",
     "text": [
      "INFO:fbprophet:Disabling daily seasonality. Run prophet with daily_seasonality=True to override this.\n"
     ]
    },
    {
     "name": "stdout",
     "output_type": "stream",
     "text": [
      "Time took 2.0728 s\n",
      "1644573759.191473\n",
      "1644573761.2642846\n",
      "Mean Absolute Percentage Error(MAPE)------------------------------------ 57.771261706021285\n",
      "{'changepoint_prior_scale': 0.3, 'holidays_prior_scale': 0.1, 'n_changepoints': 25, 'seasonality_mode': 'additive'}\n"
     ]
    },
    {
     "name": "stderr",
     "output_type": "stream",
     "text": [
      "INFO:fbprophet:Disabling daily seasonality. Run prophet with daily_seasonality=True to override this.\n"
     ]
    },
    {
     "name": "stdout",
     "output_type": "stream",
     "text": [
      "Time took 2.2277 s\n",
      "1644573761.9808967\n",
      "1644573764.2085996\n",
      "Mean Absolute Percentage Error(MAPE)------------------------------------ 50.2212746428232\n",
      "{'changepoint_prior_scale': 0.3, 'holidays_prior_scale': 0.1, 'n_changepoints': 50, 'seasonality_mode': 'multiplicative'}\n"
     ]
    },
    {
     "name": "stderr",
     "output_type": "stream",
     "text": [
      "INFO:fbprophet:Disabling daily seasonality. Run prophet with daily_seasonality=True to override this.\n"
     ]
    },
    {
     "name": "stdout",
     "output_type": "stream",
     "text": [
      "Time took 1.8899 s\n",
      "1644573765.0693085\n",
      "1644573766.959211\n",
      "Mean Absolute Percentage Error(MAPE)------------------------------------ 57.771261706021285\n",
      "{'changepoint_prior_scale': 0.3, 'holidays_prior_scale': 0.1, 'n_changepoints': 50, 'seasonality_mode': 'additive'}\n"
     ]
    },
    {
     "name": "stderr",
     "output_type": "stream",
     "text": [
      "INFO:fbprophet:Disabling daily seasonality. Run prophet with daily_seasonality=True to override this.\n"
     ]
    },
    {
     "name": "stdout",
     "output_type": "stream",
     "text": [
      "Time took 1.9659 s\n",
      "1644573767.580155\n",
      "1644573769.546049\n",
      "Mean Absolute Percentage Error(MAPE)------------------------------------ 50.2212746428232\n",
      "{'changepoint_prior_scale': 0.3, 'holidays_prior_scale': 0.1, 'n_changepoints': 75, 'seasonality_mode': 'multiplicative'}\n"
     ]
    },
    {
     "name": "stderr",
     "output_type": "stream",
     "text": [
      "INFO:fbprophet:Disabling daily seasonality. Run prophet with daily_seasonality=True to override this.\n"
     ]
    },
    {
     "name": "stdout",
     "output_type": "stream",
     "text": [
      "Time took 1.8239 s\n",
      "1644573770.385003\n",
      "1644573772.2089489\n",
      "Mean Absolute Percentage Error(MAPE)------------------------------------ 57.771261706021285\n",
      "{'changepoint_prior_scale': 0.3, 'holidays_prior_scale': 0.1, 'n_changepoints': 75, 'seasonality_mode': 'additive'}\n",
      "Time took 2.4676 s\n",
      "1644573772.8254404\n",
      "1644573775.293029\n",
      "Mean Absolute Percentage Error(MAPE)------------------------------------ 50.2212746428232\n",
      "{'changepoint_prior_scale': 0.3, 'holidays_prior_scale': 0.1, 'n_changepoints': 100, 'seasonality_mode': 'multiplicative'}\n"
     ]
    },
    {
     "name": "stderr",
     "output_type": "stream",
     "text": [
      "INFO:fbprophet:Disabling daily seasonality. Run prophet with daily_seasonality=True to override this.\n",
      "INFO:fbprophet:Disabling daily seasonality. Run prophet with daily_seasonality=True to override this.\n"
     ]
    },
    {
     "name": "stdout",
     "output_type": "stream",
     "text": [
      "Time took 2.4446 s\n",
      "1644573776.5143297\n",
      "1644573778.9589312\n",
      "Mean Absolute Percentage Error(MAPE)------------------------------------ 57.771261706021285\n",
      "{'changepoint_prior_scale': 0.3, 'holidays_prior_scale': 0.1, 'n_changepoints': 100, 'seasonality_mode': 'additive'}\n"
     ]
    },
    {
     "name": "stderr",
     "output_type": "stream",
     "text": [
      "INFO:fbprophet:Disabling daily seasonality. Run prophet with daily_seasonality=True to override this.\n"
     ]
    },
    {
     "name": "stdout",
     "output_type": "stream",
     "text": [
      "Time took 2.1538 s\n",
      "1644573779.6625328\n",
      "1644573781.8162973\n",
      "Mean Absolute Percentage Error(MAPE)------------------------------------ 50.2212746428232\n",
      "{'changepoint_prior_scale': 0.3, 'holidays_prior_scale': 0.2, 'n_changepoints': 25, 'seasonality_mode': 'multiplicative'}\n"
     ]
    },
    {
     "name": "stderr",
     "output_type": "stream",
     "text": [
      "INFO:fbprophet:Disabling daily seasonality. Run prophet with daily_seasonality=True to override this.\n"
     ]
    },
    {
     "name": "stdout",
     "output_type": "stream",
     "text": [
      "Time took 1.8320 s\n",
      "1644573783.1551547\n",
      "1644573784.9871063\n",
      "Mean Absolute Percentage Error(MAPE)------------------------------------ 57.277672831487905\n",
      "{'changepoint_prior_scale': 0.3, 'holidays_prior_scale': 0.2, 'n_changepoints': 25, 'seasonality_mode': 'additive'}\n"
     ]
    },
    {
     "name": "stderr",
     "output_type": "stream",
     "text": [
      "INFO:fbprophet:Disabling daily seasonality. Run prophet with daily_seasonality=True to override this.\n"
     ]
    },
    {
     "name": "stdout",
     "output_type": "stream",
     "text": [
      "Time took 3.0143 s\n",
      "1644573786.4371402\n",
      "1644573789.4513958\n",
      "Mean Absolute Percentage Error(MAPE)------------------------------------ 50.00700118807851\n",
      "{'changepoint_prior_scale': 0.3, 'holidays_prior_scale': 0.2, 'n_changepoints': 50, 'seasonality_mode': 'multiplicative'}\n"
     ]
    },
    {
     "name": "stderr",
     "output_type": "stream",
     "text": [
      "INFO:fbprophet:Disabling daily seasonality. Run prophet with daily_seasonality=True to override this.\n"
     ]
    },
    {
     "name": "stdout",
     "output_type": "stream",
     "text": [
      "Time took 1.9839 s\n",
      "1644573790.8697217\n",
      "1644573792.853585\n",
      "Mean Absolute Percentage Error(MAPE)------------------------------------ 57.277672831487905\n",
      "{'changepoint_prior_scale': 0.3, 'holidays_prior_scale': 0.2, 'n_changepoints': 50, 'seasonality_mode': 'additive'}\n"
     ]
    },
    {
     "name": "stderr",
     "output_type": "stream",
     "text": [
      "INFO:fbprophet:Disabling daily seasonality. Run prophet with daily_seasonality=True to override this.\n"
     ]
    },
    {
     "name": "stdout",
     "output_type": "stream",
     "text": [
      "Time took 2.1138 s\n",
      "1644573793.967149\n",
      "1644573796.0809374\n",
      "Mean Absolute Percentage Error(MAPE)------------------------------------ 50.00700118807851\n",
      "{'changepoint_prior_scale': 0.3, 'holidays_prior_scale': 0.2, 'n_changepoints': 75, 'seasonality_mode': 'multiplicative'}\n"
     ]
    },
    {
     "name": "stderr",
     "output_type": "stream",
     "text": [
      "INFO:fbprophet:Disabling daily seasonality. Run prophet with daily_seasonality=True to override this.\n"
     ]
    },
    {
     "name": "stdout",
     "output_type": "stream",
     "text": [
      "Time took 2.8923 s\n",
      "1644573797.2682798\n",
      "1644573800.1606226\n",
      "Mean Absolute Percentage Error(MAPE)------------------------------------ 57.277672831487905\n",
      "{'changepoint_prior_scale': 0.3, 'holidays_prior_scale': 0.2, 'n_changepoints': 75, 'seasonality_mode': 'additive'}\n"
     ]
    },
    {
     "name": "stderr",
     "output_type": "stream",
     "text": [
      "INFO:fbprophet:Disabling daily seasonality. Run prophet with daily_seasonality=True to override this.\n"
     ]
    },
    {
     "name": "stdout",
     "output_type": "stream",
     "text": [
      "Time took 2.1018 s\n",
      "1644573801.5558276\n",
      "1644573803.6576211\n",
      "Mean Absolute Percentage Error(MAPE)------------------------------------ 50.00700118807851\n",
      "{'changepoint_prior_scale': 0.3, 'holidays_prior_scale': 0.2, 'n_changepoints': 100, 'seasonality_mode': 'multiplicative'}\n"
     ]
    },
    {
     "name": "stderr",
     "output_type": "stream",
     "text": [
      "INFO:fbprophet:Disabling daily seasonality. Run prophet with daily_seasonality=True to override this.\n"
     ]
    },
    {
     "name": "stdout",
     "output_type": "stream",
     "text": [
      "Time took 2.0068 s\n",
      "1644573804.8353333\n",
      "1644573806.8421824\n",
      "Mean Absolute Percentage Error(MAPE)------------------------------------ 57.277672831487905\n",
      "{'changepoint_prior_scale': 0.3, 'holidays_prior_scale': 0.2, 'n_changepoints': 100, 'seasonality_mode': 'additive'}\n"
     ]
    },
    {
     "name": "stderr",
     "output_type": "stream",
     "text": [
      "INFO:fbprophet:Disabling daily seasonality. Run prophet with daily_seasonality=True to override this.\n"
     ]
    },
    {
     "name": "stdout",
     "output_type": "stream",
     "text": [
      "Time took 2.0568 s\n",
      "1644573808.0015206\n",
      "1644573810.0583446\n",
      "Mean Absolute Percentage Error(MAPE)------------------------------------ 50.00700118807851\n",
      "{'changepoint_prior_scale': 0.3, 'holidays_prior_scale': 0.3, 'n_changepoints': 25, 'seasonality_mode': 'multiplicative'}\n"
     ]
    },
    {
     "name": "stderr",
     "output_type": "stream",
     "text": [
      "INFO:fbprophet:Disabling daily seasonality. Run prophet with daily_seasonality=True to override this.\n"
     ]
    },
    {
     "name": "stdout",
     "output_type": "stream",
     "text": [
      "Time took 2.1448 s\n",
      "1644573811.332107\n",
      "1644573813.4768782\n",
      "Mean Absolute Percentage Error(MAPE)------------------------------------ 57.422285297341766\n",
      "{'changepoint_prior_scale': 0.3, 'holidays_prior_scale': 0.3, 'n_changepoints': 25, 'seasonality_mode': 'additive'}\n"
     ]
    },
    {
     "name": "stderr",
     "output_type": "stream",
     "text": [
      "INFO:fbprophet:Disabling daily seasonality. Run prophet with daily_seasonality=True to override this.\n"
     ]
    },
    {
     "name": "stdout",
     "output_type": "stream",
     "text": [
      "Time took 2.1038 s\n",
      "1644573815.1189198\n",
      "1644573817.2227154\n",
      "Mean Absolute Percentage Error(MAPE)------------------------------------ 50.844549507802114\n",
      "{'changepoint_prior_scale': 0.3, 'holidays_prior_scale': 0.3, 'n_changepoints': 50, 'seasonality_mode': 'multiplicative'}\n"
     ]
    },
    {
     "name": "stderr",
     "output_type": "stream",
     "text": [
      "INFO:fbprophet:Disabling daily seasonality. Run prophet with daily_seasonality=True to override this.\n"
     ]
    },
    {
     "name": "stdout",
     "output_type": "stream",
     "text": [
      "Time took 1.9019 s\n",
      "1644573818.525204\n",
      "1644573820.4271345\n",
      "Mean Absolute Percentage Error(MAPE)------------------------------------ 57.422285297341766\n",
      "{'changepoint_prior_scale': 0.3, 'holidays_prior_scale': 0.3, 'n_changepoints': 50, 'seasonality_mode': 'additive'}\n"
     ]
    },
    {
     "name": "stderr",
     "output_type": "stream",
     "text": [
      "INFO:fbprophet:Disabling daily seasonality. Run prophet with daily_seasonality=True to override this.\n"
     ]
    },
    {
     "name": "stdout",
     "output_type": "stream",
     "text": [
      "Time took 1.9119 s\n",
      "1644573821.8582304\n",
      "1644573823.7701552\n",
      "Mean Absolute Percentage Error(MAPE)------------------------------------ 50.844549507802114\n",
      "{'changepoint_prior_scale': 0.3, 'holidays_prior_scale': 0.3, 'n_changepoints': 75, 'seasonality_mode': 'multiplicative'}\n"
     ]
    },
    {
     "name": "stderr",
     "output_type": "stream",
     "text": [
      "INFO:fbprophet:Disabling daily seasonality. Run prophet with daily_seasonality=True to override this.\n"
     ]
    },
    {
     "name": "stdout",
     "output_type": "stream",
     "text": [
      "Time took 1.9519 s\n",
      "1644573825.0069852\n",
      "1644573826.9588726\n",
      "Mean Absolute Percentage Error(MAPE)------------------------------------ 57.422285297341766\n",
      "{'changepoint_prior_scale': 0.3, 'holidays_prior_scale': 0.3, 'n_changepoints': 75, 'seasonality_mode': 'additive'}\n"
     ]
    },
    {
     "name": "stderr",
     "output_type": "stream",
     "text": [
      "INFO:fbprophet:Disabling daily seasonality. Run prophet with daily_seasonality=True to override this.\n"
     ]
    },
    {
     "name": "stdout",
     "output_type": "stream",
     "text": [
      "Time took 1.9779 s\n",
      "1644573828.5048106\n",
      "1644573830.482679\n",
      "Mean Absolute Percentage Error(MAPE)------------------------------------ 50.844549507802114\n",
      "{'changepoint_prior_scale': 0.3, 'holidays_prior_scale': 0.3, 'n_changepoints': 100, 'seasonality_mode': 'multiplicative'}\n",
      "Time took 2.4446 s\n",
      "1644573831.837137\n",
      "1644573834.2817395\n",
      "Mean Absolute Percentage Error(MAPE)------------------------------------ 57.422285297341766\n",
      "{'changepoint_prior_scale': 0.3, 'holidays_prior_scale': 0.3, 'n_changepoints': 100, 'seasonality_mode': 'additive'}\n"
     ]
    },
    {
     "name": "stderr",
     "output_type": "stream",
     "text": [
      "INFO:fbprophet:Disabling daily seasonality. Run prophet with daily_seasonality=True to override this.\n"
     ]
    },
    {
     "name": "stdout",
     "output_type": "stream",
     "text": [
      "Time took 2.2597 s\n",
      "1644573837.301733\n",
      "1644573839.5614233\n",
      "Mean Absolute Percentage Error(MAPE)------------------------------------ 50.844549507802114\n",
      "{'changepoint_prior_scale': 0.3, 'holidays_prior_scale': 0.4, 'n_changepoints': 25, 'seasonality_mode': 'multiplicative'}\n"
     ]
    },
    {
     "name": "stderr",
     "output_type": "stream",
     "text": [
      "INFO:fbprophet:Disabling daily seasonality. Run prophet with daily_seasonality=True to override this.\n",
      "INFO:fbprophet:Disabling daily seasonality. Run prophet with daily_seasonality=True to override this.\n"
     ]
    },
    {
     "name": "stdout",
     "output_type": "stream",
     "text": [
      "Time took 2.5395 s\n",
      "1644573840.8127108\n",
      "1644573843.3522542\n",
      "Mean Absolute Percentage Error(MAPE)------------------------------------ 57.205728314925295\n",
      "{'changepoint_prior_scale': 0.3, 'holidays_prior_scale': 0.4, 'n_changepoints': 25, 'seasonality_mode': 'additive'}\n"
     ]
    },
    {
     "name": "stderr",
     "output_type": "stream",
     "text": [
      "INFO:fbprophet:Disabling daily seasonality. Run prophet with daily_seasonality=True to override this.\n"
     ]
    },
    {
     "name": "stdout",
     "output_type": "stream",
     "text": [
      "Time took 1.9419 s\n",
      "1644573844.8485987\n",
      "1644573846.7904866\n",
      "Mean Absolute Percentage Error(MAPE)------------------------------------ 49.941612918991716\n",
      "{'changepoint_prior_scale': 0.3, 'holidays_prior_scale': 0.4, 'n_changepoints': 50, 'seasonality_mode': 'multiplicative'}\n"
     ]
    },
    {
     "name": "stderr",
     "output_type": "stream",
     "text": [
      "INFO:fbprophet:Disabling daily seasonality. Run prophet with daily_seasonality=True to override this.\n"
     ]
    },
    {
     "name": "stdout",
     "output_type": "stream",
     "text": [
      "Time took 2.9603 s\n",
      "1644573847.6802733\n",
      "1644573850.6405785\n",
      "Mean Absolute Percentage Error(MAPE)------------------------------------ 57.205728314925295\n",
      "{'changepoint_prior_scale': 0.3, 'holidays_prior_scale': 0.4, 'n_changepoints': 50, 'seasonality_mode': 'additive'}\n"
     ]
    },
    {
     "name": "stderr",
     "output_type": "stream",
     "text": [
      "INFO:fbprophet:Disabling daily seasonality. Run prophet with daily_seasonality=True to override this.\n"
     ]
    },
    {
     "name": "stdout",
     "output_type": "stream",
     "text": [
      "Time took 2.2767 s\n",
      "1644573852.3436196\n",
      "1644573854.6203024\n",
      "Mean Absolute Percentage Error(MAPE)------------------------------------ 49.941612918991716\n",
      "{'changepoint_prior_scale': 0.3, 'holidays_prior_scale': 0.4, 'n_changepoints': 75, 'seasonality_mode': 'multiplicative'}\n",
      "Time took 2.2537 s\n",
      "1644573855.7464337\n",
      "1644573858.0001464\n",
      "Mean Absolute Percentage Error(MAPE)------------------------------------ 57.205728314925295\n",
      "{'changepoint_prior_scale': 0.3, 'holidays_prior_scale': 0.4, 'n_changepoints': 75, 'seasonality_mode': 'additive'}\n"
     ]
    },
    {
     "name": "stderr",
     "output_type": "stream",
     "text": [
      "INFO:fbprophet:Disabling daily seasonality. Run prophet with daily_seasonality=True to override this.\n",
      "INFO:fbprophet:Disabling daily seasonality. Run prophet with daily_seasonality=True to override this.\n"
     ]
    },
    {
     "name": "stdout",
     "output_type": "stream",
     "text": [
      "Time took 2.3257 s\n",
      "1644573859.9600227\n",
      "1644573862.2856758\n",
      "Mean Absolute Percentage Error(MAPE)------------------------------------ 49.941612918991716\n",
      "{'changepoint_prior_scale': 0.3, 'holidays_prior_scale': 0.4, 'n_changepoints': 100, 'seasonality_mode': 'multiplicative'}\n"
     ]
    },
    {
     "name": "stderr",
     "output_type": "stream",
     "text": [
      "INFO:fbprophet:Disabling daily seasonality. Run prophet with daily_seasonality=True to override this.\n"
     ]
    },
    {
     "name": "stdout",
     "output_type": "stream",
     "text": [
      "Time took 2.0558 s\n",
      "1644573863.4097292\n",
      "1644573865.465558\n",
      "Mean Absolute Percentage Error(MAPE)------------------------------------ 57.205728314925295\n",
      "{'changepoint_prior_scale': 0.3, 'holidays_prior_scale': 0.4, 'n_changepoints': 100, 'seasonality_mode': 'additive'}\n"
     ]
    },
    {
     "name": "stderr",
     "output_type": "stream",
     "text": [
      "INFO:fbprophet:Disabling daily seasonality. Run prophet with daily_seasonality=True to override this.\n"
     ]
    },
    {
     "name": "stdout",
     "output_type": "stream",
     "text": [
      "Time took 2.1028 s\n",
      "1644573866.9516888\n",
      "1644573869.054485\n",
      "Mean Absolute Percentage Error(MAPE)------------------------------------ 49.941612918991716\n",
      "{'changepoint_prior_scale': 0.3, 'holidays_prior_scale': 0.5, 'n_changepoints': 25, 'seasonality_mode': 'multiplicative'}\n"
     ]
    },
    {
     "name": "stderr",
     "output_type": "stream",
     "text": [
      "INFO:fbprophet:Disabling daily seasonality. Run prophet with daily_seasonality=True to override this.\n"
     ]
    },
    {
     "name": "stdout",
     "output_type": "stream",
     "text": [
      "Time took 1.9109 s\n",
      "1644573869.6802065\n",
      "1644573871.5911107\n",
      "Mean Absolute Percentage Error(MAPE)------------------------------------ 56.19877179654927\n",
      "{'changepoint_prior_scale': 0.3, 'holidays_prior_scale': 0.5, 'n_changepoints': 25, 'seasonality_mode': 'additive'}\n"
     ]
    },
    {
     "name": "stderr",
     "output_type": "stream",
     "text": [
      "INFO:fbprophet:Disabling daily seasonality. Run prophet with daily_seasonality=True to override this.\n"
     ]
    },
    {
     "name": "stdout",
     "output_type": "stream",
     "text": [
      "Time took 1.9249 s\n",
      "1644573872.623353\n",
      "1644573874.5482488\n",
      "Mean Absolute Percentage Error(MAPE)------------------------------------ 50.04685020751438\n",
      "{'changepoint_prior_scale': 0.3, 'holidays_prior_scale': 0.5, 'n_changepoints': 50, 'seasonality_mode': 'multiplicative'}\n"
     ]
    },
    {
     "name": "stderr",
     "output_type": "stream",
     "text": [
      "INFO:fbprophet:Disabling daily seasonality. Run prophet with daily_seasonality=True to override this.\n"
     ]
    },
    {
     "name": "stdout",
     "output_type": "stream",
     "text": [
      "Time took 1.8579 s\n",
      "1644573875.1358004\n",
      "1644573876.993714\n",
      "Mean Absolute Percentage Error(MAPE)------------------------------------ 56.19877179654927\n",
      "{'changepoint_prior_scale': 0.3, 'holidays_prior_scale': 0.5, 'n_changepoints': 50, 'seasonality_mode': 'additive'}\n"
     ]
    },
    {
     "name": "stderr",
     "output_type": "stream",
     "text": [
      "INFO:fbprophet:Disabling daily seasonality. Run prophet with daily_seasonality=True to override this.\n"
     ]
    },
    {
     "name": "stdout",
     "output_type": "stream",
     "text": [
      "Time took 2.0608 s\n",
      "1644573878.1047966\n",
      "1644573880.1656358\n",
      "Mean Absolute Percentage Error(MAPE)------------------------------------ 50.04685020751438\n",
      "{'changepoint_prior_scale': 0.3, 'holidays_prior_scale': 0.5, 'n_changepoints': 75, 'seasonality_mode': 'multiplicative'}\n",
      "Time took 3.0422 s\n",
      "1644573880.8388023\n",
      "1644573883.8810418\n",
      "Mean Absolute Percentage Error(MAPE)------------------------------------ 56.19877179654927\n",
      "{'changepoint_prior_scale': 0.3, 'holidays_prior_scale': 0.5, 'n_changepoints': 75, 'seasonality_mode': 'additive'}\n"
     ]
    },
    {
     "name": "stderr",
     "output_type": "stream",
     "text": [
      "INFO:fbprophet:Disabling daily seasonality. Run prophet with daily_seasonality=True to override this.\n",
      "INFO:fbprophet:Disabling daily seasonality. Run prophet with daily_seasonality=True to override this.\n"
     ]
    },
    {
     "name": "stdout",
     "output_type": "stream",
     "text": [
      "Time took 2.0768 s\n",
      "1644573885.1952894\n",
      "1644573887.2721207\n",
      "Mean Absolute Percentage Error(MAPE)------------------------------------ 50.04685020751438\n",
      "{'changepoint_prior_scale': 0.3, 'holidays_prior_scale': 0.5, 'n_changepoints': 100, 'seasonality_mode': 'multiplicative'}\n"
     ]
    },
    {
     "name": "stderr",
     "output_type": "stream",
     "text": [
      "INFO:fbprophet:Disabling daily seasonality. Run prophet with daily_seasonality=True to override this.\n"
     ]
    },
    {
     "name": "stdout",
     "output_type": "stream",
     "text": [
      "Time took 2.0248 s\n",
      "1644573887.8671646\n",
      "1644573889.892006\n",
      "Mean Absolute Percentage Error(MAPE)------------------------------------ 56.19877179654927\n",
      "{'changepoint_prior_scale': 0.3, 'holidays_prior_scale': 0.5, 'n_changepoints': 100, 'seasonality_mode': 'additive'}\n",
      "Time took 2.0508 s\n",
      "1644573890.9704716\n",
      "1644573893.0212772\n",
      "Mean Absolute Percentage Error(MAPE)------------------------------------ 50.04685020751438\n",
      "{'changepoint_prior_scale': 0.4, 'holidays_prior_scale': 0.1, 'n_changepoints': 25, 'seasonality_mode': 'multiplicative'}\n"
     ]
    },
    {
     "name": "stderr",
     "output_type": "stream",
     "text": [
      "INFO:fbprophet:Disabling daily seasonality. Run prophet with daily_seasonality=True to override this.\n",
      "INFO:fbprophet:Disabling daily seasonality. Run prophet with daily_seasonality=True to override this.\n"
     ]
    },
    {
     "name": "stdout",
     "output_type": "stream",
     "text": [
      "Time took 1.9879 s\n",
      "1644573893.8498006\n",
      "1644573895.837665\n",
      "Mean Absolute Percentage Error(MAPE)------------------------------------ 58.08315573435453\n",
      "{'changepoint_prior_scale': 0.4, 'holidays_prior_scale': 0.1, 'n_changepoints': 25, 'seasonality_mode': 'additive'}\n"
     ]
    },
    {
     "name": "stderr",
     "output_type": "stream",
     "text": [
      "INFO:fbprophet:Disabling daily seasonality. Run prophet with daily_seasonality=True to override this.\n"
     ]
    },
    {
     "name": "stdout",
     "output_type": "stream",
     "text": [
      "Time took 2.0888 s\n",
      "1644573896.4735157\n",
      "1644573898.5623333\n",
      "Mean Absolute Percentage Error(MAPE)------------------------------------ 57.257346205412894\n",
      "{'changepoint_prior_scale': 0.4, 'holidays_prior_scale': 0.1, 'n_changepoints': 50, 'seasonality_mode': 'multiplicative'}\n"
     ]
    },
    {
     "name": "stderr",
     "output_type": "stream",
     "text": [
      "INFO:fbprophet:Disabling daily seasonality. Run prophet with daily_seasonality=True to override this.\n"
     ]
    },
    {
     "name": "stdout",
     "output_type": "stream",
     "text": [
      "Time took 1.8739 s\n",
      "1644573899.2313704\n",
      "1644573901.1053028\n",
      "Mean Absolute Percentage Error(MAPE)------------------------------------ 58.08315573435453\n",
      "{'changepoint_prior_scale': 0.4, 'holidays_prior_scale': 0.1, 'n_changepoints': 50, 'seasonality_mode': 'additive'}\n"
     ]
    },
    {
     "name": "stderr",
     "output_type": "stream",
     "text": [
      "INFO:fbprophet:Disabling daily seasonality. Run prophet with daily_seasonality=True to override this.\n"
     ]
    },
    {
     "name": "stdout",
     "output_type": "stream",
     "text": [
      "Time took 2.0708 s\n",
      "1644573901.740942\n",
      "1644573903.811734\n",
      "Mean Absolute Percentage Error(MAPE)------------------------------------ 57.257346205412894\n",
      "{'changepoint_prior_scale': 0.4, 'holidays_prior_scale': 0.1, 'n_changepoints': 75, 'seasonality_mode': 'multiplicative'}\n"
     ]
    },
    {
     "name": "stderr",
     "output_type": "stream",
     "text": [
      "INFO:fbprophet:Disabling daily seasonality. Run prophet with daily_seasonality=True to override this.\n"
     ]
    },
    {
     "name": "stdout",
     "output_type": "stream",
     "text": [
      "Time took 2.1038 s\n",
      "1644573904.6212716\n",
      "1644573906.7250683\n",
      "Mean Absolute Percentage Error(MAPE)------------------------------------ 58.08315573435453\n",
      "{'changepoint_prior_scale': 0.4, 'holidays_prior_scale': 0.1, 'n_changepoints': 75, 'seasonality_mode': 'additive'}\n"
     ]
    },
    {
     "name": "stderr",
     "output_type": "stream",
     "text": [
      "INFO:fbprophet:Disabling daily seasonality. Run prophet with daily_seasonality=True to override this.\n"
     ]
    },
    {
     "name": "stdout",
     "output_type": "stream",
     "text": [
      "Time took 2.0888 s\n",
      "1644573907.4122038\n",
      "1644573909.5009937\n",
      "Mean Absolute Percentage Error(MAPE)------------------------------------ 57.257346205412894\n",
      "{'changepoint_prior_scale': 0.4, 'holidays_prior_scale': 0.1, 'n_changepoints': 100, 'seasonality_mode': 'multiplicative'}\n"
     ]
    },
    {
     "name": "stderr",
     "output_type": "stream",
     "text": [
      "INFO:fbprophet:Disabling daily seasonality. Run prophet with daily_seasonality=True to override this.\n"
     ]
    },
    {
     "name": "stdout",
     "output_type": "stream",
     "text": [
      "Time took 1.8479 s\n",
      "1644573910.1726103\n",
      "1644573912.0205493\n",
      "Mean Absolute Percentage Error(MAPE)------------------------------------ 58.08315573435453\n",
      "{'changepoint_prior_scale': 0.4, 'holidays_prior_scale': 0.1, 'n_changepoints': 100, 'seasonality_mode': 'additive'}\n"
     ]
    },
    {
     "name": "stderr",
     "output_type": "stream",
     "text": [
      "INFO:fbprophet:Disabling daily seasonality. Run prophet with daily_seasonality=True to override this.\n"
     ]
    },
    {
     "name": "stdout",
     "output_type": "stream",
     "text": [
      "Time took 1.8170 s\n",
      "1644573912.6552093\n",
      "1644573914.4721675\n",
      "Mean Absolute Percentage Error(MAPE)------------------------------------ 57.257346205412894\n",
      "{'changepoint_prior_scale': 0.4, 'holidays_prior_scale': 0.2, 'n_changepoints': 25, 'seasonality_mode': 'multiplicative'}\n"
     ]
    },
    {
     "name": "stderr",
     "output_type": "stream",
     "text": [
      "INFO:fbprophet:Disabling daily seasonality. Run prophet with daily_seasonality=True to override this.\n"
     ]
    },
    {
     "name": "stdout",
     "output_type": "stream",
     "text": [
      "Time took 2.1538 s\n",
      "1644573915.329729\n",
      "1644573917.483498\n",
      "Mean Absolute Percentage Error(MAPE)------------------------------------ 58.496230271376824\n",
      "{'changepoint_prior_scale': 0.4, 'holidays_prior_scale': 0.2, 'n_changepoints': 25, 'seasonality_mode': 'additive'}\n"
     ]
    },
    {
     "name": "stderr",
     "output_type": "stream",
     "text": [
      "INFO:fbprophet:Disabling daily seasonality. Run prophet with daily_seasonality=True to override this.\n"
     ]
    },
    {
     "name": "stdout",
     "output_type": "stream",
     "text": [
      "Time took 1.8130 s\n",
      "1644573918.119305\n",
      "1644573919.932271\n",
      "Mean Absolute Percentage Error(MAPE)------------------------------------ 56.080189265123124\n",
      "{'changepoint_prior_scale': 0.4, 'holidays_prior_scale': 0.2, 'n_changepoints': 50, 'seasonality_mode': 'multiplicative'}\n"
     ]
    },
    {
     "name": "stderr",
     "output_type": "stream",
     "text": [
      "INFO:fbprophet:Disabling daily seasonality. Run prophet with daily_seasonality=True to override this.\n"
     ]
    },
    {
     "name": "stdout",
     "output_type": "stream",
     "text": [
      "Time took 1.8650 s\n",
      "1644573920.8193\n",
      "1644573922.68425\n",
      "Mean Absolute Percentage Error(MAPE)------------------------------------ 58.496230271376824\n",
      "{'changepoint_prior_scale': 0.4, 'holidays_prior_scale': 0.2, 'n_changepoints': 50, 'seasonality_mode': 'additive'}\n"
     ]
    },
    {
     "name": "stderr",
     "output_type": "stream",
     "text": [
      "INFO:fbprophet:Disabling daily seasonality. Run prophet with daily_seasonality=True to override this.\n"
     ]
    },
    {
     "name": "stdout",
     "output_type": "stream",
     "text": [
      "Time took 1.8060 s\n",
      "1644573923.240982\n",
      "1644573925.0469453\n",
      "Mean Absolute Percentage Error(MAPE)------------------------------------ 56.080189265123124\n",
      "{'changepoint_prior_scale': 0.4, 'holidays_prior_scale': 0.2, 'n_changepoints': 75, 'seasonality_mode': 'multiplicative'}\n"
     ]
    },
    {
     "name": "stderr",
     "output_type": "stream",
     "text": [
      "INFO:fbprophet:Disabling daily seasonality. Run prophet with daily_seasonality=True to override this.\n"
     ]
    },
    {
     "name": "stdout",
     "output_type": "stream",
     "text": [
      "Time took 1.8560 s\n",
      "1644573925.8977726\n",
      "1644573927.7537308\n",
      "Mean Absolute Percentage Error(MAPE)------------------------------------ 58.496230271376824\n",
      "{'changepoint_prior_scale': 0.4, 'holidays_prior_scale': 0.2, 'n_changepoints': 75, 'seasonality_mode': 'additive'}\n"
     ]
    },
    {
     "name": "stderr",
     "output_type": "stream",
     "text": [
      "INFO:fbprophet:Disabling daily seasonality. Run prophet with daily_seasonality=True to override this.\n"
     ]
    },
    {
     "name": "stdout",
     "output_type": "stream",
     "text": [
      "Time took 1.8220 s\n",
      "1644573928.3004136\n",
      "1644573930.1223757\n",
      "Mean Absolute Percentage Error(MAPE)------------------------------------ 56.080189265123124\n",
      "{'changepoint_prior_scale': 0.4, 'holidays_prior_scale': 0.2, 'n_changepoints': 100, 'seasonality_mode': 'multiplicative'}\n"
     ]
    },
    {
     "name": "stderr",
     "output_type": "stream",
     "text": [
      "INFO:fbprophet:Disabling daily seasonality. Run prophet with daily_seasonality=True to override this.\n"
     ]
    },
    {
     "name": "stdout",
     "output_type": "stream",
     "text": [
      "Time took 1.8849 s\n",
      "1644573930.9921088\n",
      "1644573932.8770301\n",
      "Mean Absolute Percentage Error(MAPE)------------------------------------ 58.496230271376824\n",
      "{'changepoint_prior_scale': 0.4, 'holidays_prior_scale': 0.2, 'n_changepoints': 100, 'seasonality_mode': 'additive'}\n"
     ]
    },
    {
     "name": "stderr",
     "output_type": "stream",
     "text": [
      "INFO:fbprophet:Disabling daily seasonality. Run prophet with daily_seasonality=True to override this.\n"
     ]
    },
    {
     "name": "stdout",
     "output_type": "stream",
     "text": [
      "Time took 1.9759 s\n",
      "1644573933.4209785\n",
      "1644573935.396848\n",
      "Mean Absolute Percentage Error(MAPE)------------------------------------ 56.080189265123124\n",
      "{'changepoint_prior_scale': 0.4, 'holidays_prior_scale': 0.3, 'n_changepoints': 25, 'seasonality_mode': 'multiplicative'}\n"
     ]
    },
    {
     "name": "stderr",
     "output_type": "stream",
     "text": [
      "INFO:fbprophet:Disabling daily seasonality. Run prophet with daily_seasonality=True to override this.\n"
     ]
    },
    {
     "name": "stdout",
     "output_type": "stream",
     "text": [
      "Time took 1.8080 s\n",
      "1644573936.0976374\n",
      "1644573937.9055874\n",
      "Mean Absolute Percentage Error(MAPE)------------------------------------ 58.028355545185384\n",
      "{'changepoint_prior_scale': 0.4, 'holidays_prior_scale': 0.3, 'n_changepoints': 25, 'seasonality_mode': 'additive'}\n"
     ]
    },
    {
     "name": "stderr",
     "output_type": "stream",
     "text": [
      "INFO:fbprophet:Disabling daily seasonality. Run prophet with daily_seasonality=True to override this.\n"
     ]
    },
    {
     "name": "stdout",
     "output_type": "stream",
     "text": [
      "Time took 1.8669 s\n",
      "1644573939.0049603\n",
      "1644573940.8719084\n",
      "Mean Absolute Percentage Error(MAPE)------------------------------------ 57.128290171270066\n",
      "{'changepoint_prior_scale': 0.4, 'holidays_prior_scale': 0.3, 'n_changepoints': 50, 'seasonality_mode': 'multiplicative'}\n"
     ]
    },
    {
     "name": "stderr",
     "output_type": "stream",
     "text": [
      "INFO:fbprophet:Disabling daily seasonality. Run prophet with daily_seasonality=True to override this.\n"
     ]
    },
    {
     "name": "stdout",
     "output_type": "stream",
     "text": [
      "Time took 1.9029 s\n",
      "1644573941.7693949\n",
      "1644573943.6723049\n",
      "Mean Absolute Percentage Error(MAPE)------------------------------------ 58.028355545185384\n",
      "{'changepoint_prior_scale': 0.4, 'holidays_prior_scale': 0.3, 'n_changepoints': 50, 'seasonality_mode': 'additive'}\n"
     ]
    },
    {
     "name": "stderr",
     "output_type": "stream",
     "text": [
      "INFO:fbprophet:Disabling daily seasonality. Run prophet with daily_seasonality=True to override this.\n"
     ]
    },
    {
     "name": "stdout",
     "output_type": "stream",
     "text": [
      "Time took 2.3397 s\n",
      "1644573944.9723196\n",
      "1644573947.3119795\n",
      "Mean Absolute Percentage Error(MAPE)------------------------------------ 57.128290171270066\n",
      "{'changepoint_prior_scale': 0.4, 'holidays_prior_scale': 0.3, 'n_changepoints': 75, 'seasonality_mode': 'multiplicative'}\n",
      "Time took 2.0278 s\n",
      "1644573948.1499255\n",
      "1644573950.1777658\n",
      "Mean Absolute Percentage Error(MAPE)------------------------------------ 58.028355545185384\n",
      "{'changepoint_prior_scale': 0.4, 'holidays_prior_scale': 0.3, 'n_changepoints': 75, 'seasonality_mode': 'additive'}\n"
     ]
    },
    {
     "name": "stderr",
     "output_type": "stream",
     "text": [
      "INFO:fbprophet:Disabling daily seasonality. Run prophet with daily_seasonality=True to override this.\n",
      "INFO:fbprophet:Disabling daily seasonality. Run prophet with daily_seasonality=True to override this.\n"
     ]
    },
    {
     "name": "stdout",
     "output_type": "stream",
     "text": [
      "Time took 1.9929 s\n",
      "1644573951.455037\n",
      "1644573953.447909\n",
      "Mean Absolute Percentage Error(MAPE)------------------------------------ 57.128290171270066\n",
      "{'changepoint_prior_scale': 0.4, 'holidays_prior_scale': 0.3, 'n_changepoints': 100, 'seasonality_mode': 'multiplicative'}\n"
     ]
    },
    {
     "name": "stderr",
     "output_type": "stream",
     "text": [
      "INFO:fbprophet:Disabling daily seasonality. Run prophet with daily_seasonality=True to override this.\n"
     ]
    },
    {
     "name": "stdout",
     "output_type": "stream",
     "text": [
      "Time took 2.0255 s\n",
      "1644573954.2121825\n",
      "1644573956.2376466\n",
      "Mean Absolute Percentage Error(MAPE)------------------------------------ 58.028355545185384\n",
      "{'changepoint_prior_scale': 0.4, 'holidays_prior_scale': 0.3, 'n_changepoints': 100, 'seasonality_mode': 'additive'}\n",
      "Time took 2.2517 s\n",
      "1644573957.4730532\n",
      "1644573959.724778\n",
      "Mean Absolute Percentage Error(MAPE)------------------------------------ 57.128290171270066\n",
      "{'changepoint_prior_scale': 0.4, 'holidays_prior_scale': 0.4, 'n_changepoints': 25, 'seasonality_mode': 'multiplicative'}\n"
     ]
    },
    {
     "name": "stderr",
     "output_type": "stream",
     "text": [
      "INFO:fbprophet:Disabling daily seasonality. Run prophet with daily_seasonality=True to override this.\n"
     ]
    },
    {
     "name": "stdout",
     "output_type": "stream",
     "text": [
      "Time took 2.6065 s\n",
      "1644573960.566283\n",
      "1644573963.172792\n",
      "Mean Absolute Percentage Error(MAPE)------------------------------------ 59.17910347221825\n",
      "{'changepoint_prior_scale': 0.4, 'holidays_prior_scale': 0.4, 'n_changepoints': 25, 'seasonality_mode': 'additive'}\n"
     ]
    },
    {
     "name": "stderr",
     "output_type": "stream",
     "text": [
      "INFO:fbprophet:Disabling daily seasonality. Run prophet with daily_seasonality=True to override this.\n",
      "INFO:fbprophet:Disabling daily seasonality. Run prophet with daily_seasonality=True to override this.\n"
     ]
    },
    {
     "name": "stdout",
     "output_type": "stream",
     "text": [
      "Time took 2.9103 s\n",
      "1644573965.1174753\n",
      "1644573968.027825\n",
      "Mean Absolute Percentage Error(MAPE)------------------------------------ 56.26650298811372\n",
      "{'changepoint_prior_scale': 0.4, 'holidays_prior_scale': 0.4, 'n_changepoints': 50, 'seasonality_mode': 'multiplicative'}\n"
     ]
    },
    {
     "name": "stderr",
     "output_type": "stream",
     "text": [
      "INFO:fbprophet:Disabling daily seasonality. Run prophet with daily_seasonality=True to override this.\n"
     ]
    },
    {
     "name": "stdout",
     "output_type": "stream",
     "text": [
      "Time took 3.7668 s\n",
      "1644573968.9014797\n",
      "1644573972.668323\n",
      "Mean Absolute Percentage Error(MAPE)------------------------------------ 59.17910347221825\n",
      "{'changepoint_prior_scale': 0.4, 'holidays_prior_scale': 0.4, 'n_changepoints': 50, 'seasonality_mode': 'additive'}\n"
     ]
    },
    {
     "name": "stderr",
     "output_type": "stream",
     "text": [
      "INFO:fbprophet:Disabling daily seasonality. Run prophet with daily_seasonality=True to override this.\n"
     ]
    },
    {
     "name": "stdout",
     "output_type": "stream",
     "text": [
      "Time took 2.4236 s\n",
      "1644573974.081618\n",
      "1644573976.5052514\n",
      "Mean Absolute Percentage Error(MAPE)------------------------------------ 56.26650298811372\n",
      "{'changepoint_prior_scale': 0.4, 'holidays_prior_scale': 0.4, 'n_changepoints': 75, 'seasonality_mode': 'multiplicative'}\n"
     ]
    },
    {
     "name": "stderr",
     "output_type": "stream",
     "text": [
      "INFO:fbprophet:Disabling daily seasonality. Run prophet with daily_seasonality=True to override this.\n"
     ]
    },
    {
     "name": "stdout",
     "output_type": "stream",
     "text": [
      "Time took 2.4546 s\n",
      "1644573977.2316232\n",
      "1644573979.6862206\n",
      "Mean Absolute Percentage Error(MAPE)------------------------------------ 59.17910347221825\n",
      "{'changepoint_prior_scale': 0.4, 'holidays_prior_scale': 0.4, 'n_changepoints': 75, 'seasonality_mode': 'additive'}\n",
      "Time took 2.7894 s\n",
      "1644573981.0267298\n",
      "1644573983.8161345\n",
      "Mean Absolute Percentage Error(MAPE)------------------------------------ 56.26650298811372\n",
      "{'changepoint_prior_scale': 0.4, 'holidays_prior_scale': 0.4, 'n_changepoints': 100, 'seasonality_mode': 'multiplicative'}\n"
     ]
    },
    {
     "name": "stderr",
     "output_type": "stream",
     "text": [
      "INFO:fbprophet:Disabling daily seasonality. Run prophet with daily_seasonality=True to override this.\n",
      "INFO:fbprophet:Disabling daily seasonality. Run prophet with daily_seasonality=True to override this.\n"
     ]
    },
    {
     "name": "stdout",
     "output_type": "stream",
     "text": [
      "Time took 2.6255 s\n",
      "1644573984.7056482\n",
      "1644573987.3311257\n",
      "Mean Absolute Percentage Error(MAPE)------------------------------------ 59.17910347221825\n",
      "{'changepoint_prior_scale': 0.4, 'holidays_prior_scale': 0.4, 'n_changepoints': 100, 'seasonality_mode': 'additive'}\n",
      "Time took 2.7844 s\n",
      "1644573988.658372\n",
      "1644573991.4428062\n",
      "Mean Absolute Percentage Error(MAPE)------------------------------------ 56.26650298811372\n",
      "{'changepoint_prior_scale': 0.4, 'holidays_prior_scale': 0.5, 'n_changepoints': 25, 'seasonality_mode': 'multiplicative'}\n"
     ]
    },
    {
     "name": "stderr",
     "output_type": "stream",
     "text": [
      "INFO:fbprophet:Disabling daily seasonality. Run prophet with daily_seasonality=True to override this.\n",
      "INFO:fbprophet:Disabling daily seasonality. Run prophet with daily_seasonality=True to override this.\n"
     ]
    },
    {
     "name": "stdout",
     "output_type": "stream",
     "text": [
      "Time took 2.4496 s\n",
      "1644573992.4197927\n",
      "1644573994.869395\n",
      "Mean Absolute Percentage Error(MAPE)------------------------------------ 58.28923136852278\n",
      "{'changepoint_prior_scale': 0.4, 'holidays_prior_scale': 0.5, 'n_changepoints': 25, 'seasonality_mode': 'additive'}\n"
     ]
    },
    {
     "name": "stderr",
     "output_type": "stream",
     "text": [
      "INFO:fbprophet:Disabling daily seasonality. Run prophet with daily_seasonality=True to override this.\n"
     ]
    },
    {
     "name": "stdout",
     "output_type": "stream",
     "text": [
      "Time took 2.3297 s\n",
      "1644573995.8416126\n",
      "1644573998.171299\n",
      "Mean Absolute Percentage Error(MAPE)------------------------------------ 57.27464405264734\n",
      "{'changepoint_prior_scale': 0.4, 'holidays_prior_scale': 0.5, 'n_changepoints': 50, 'seasonality_mode': 'multiplicative'}\n"
     ]
    },
    {
     "name": "stderr",
     "output_type": "stream",
     "text": [
      "INFO:fbprophet:Disabling daily seasonality. Run prophet with daily_seasonality=True to override this.\n"
     ]
    },
    {
     "name": "stdout",
     "output_type": "stream",
     "text": [
      "Time took 2.4316 s\n",
      "1644573999.0577724\n",
      "1644574001.4893951\n",
      "Mean Absolute Percentage Error(MAPE)------------------------------------ 58.28923136852278\n",
      "{'changepoint_prior_scale': 0.4, 'holidays_prior_scale': 0.5, 'n_changepoints': 50, 'seasonality_mode': 'additive'}\n"
     ]
    },
    {
     "name": "stderr",
     "output_type": "stream",
     "text": [
      "INFO:fbprophet:Disabling daily seasonality. Run prophet with daily_seasonality=True to override this.\n"
     ]
    },
    {
     "name": "stdout",
     "output_type": "stream",
     "text": [
      "Time took 2.0588 s\n",
      "1644574002.4286237\n",
      "1644574004.4874618\n",
      "Mean Absolute Percentage Error(MAPE)------------------------------------ 57.27464405264734\n",
      "{'changepoint_prior_scale': 0.4, 'holidays_prior_scale': 0.5, 'n_changepoints': 75, 'seasonality_mode': 'multiplicative'}\n"
     ]
    },
    {
     "name": "stderr",
     "output_type": "stream",
     "text": [
      "INFO:fbprophet:Disabling daily seasonality. Run prophet with daily_seasonality=True to override this.\n"
     ]
    },
    {
     "name": "stdout",
     "output_type": "stream",
     "text": [
      "Time took 2.0998 s\n",
      "1644574005.3566332\n",
      "1644574007.4564328\n",
      "Mean Absolute Percentage Error(MAPE)------------------------------------ 58.28923136852278\n",
      "{'changepoint_prior_scale': 0.4, 'holidays_prior_scale': 0.5, 'n_changepoints': 75, 'seasonality_mode': 'additive'}\n",
      "Time took 3.8578 s\n",
      "1644574008.3400278\n",
      "1644574012.197818\n",
      "Mean Absolute Percentage Error(MAPE)------------------------------------ 57.27464405264734\n",
      "{'changepoint_prior_scale': 0.4, 'holidays_prior_scale': 0.5, 'n_changepoints': 100, 'seasonality_mode': 'multiplicative'}\n"
     ]
    },
    {
     "name": "stderr",
     "output_type": "stream",
     "text": [
      "INFO:fbprophet:Disabling daily seasonality. Run prophet with daily_seasonality=True to override this.\n"
     ]
    },
    {
     "name": "stdout",
     "output_type": "stream",
     "text": [
      "Time took 2.8934 s\n",
      "1644574013.4760878\n",
      "1644574016.3694487\n",
      "Mean Absolute Percentage Error(MAPE)------------------------------------ 58.28923136852278\n",
      "{'changepoint_prior_scale': 0.4, 'holidays_prior_scale': 0.5, 'n_changepoints': 100, 'seasonality_mode': 'additive'}\n"
     ]
    },
    {
     "name": "stderr",
     "output_type": "stream",
     "text": [
      "INFO:fbprophet:Disabling daily seasonality. Run prophet with daily_seasonality=True to override this.\n",
      "INFO:fbprophet:Disabling daily seasonality. Run prophet with daily_seasonality=True to override this.\n"
     ]
    },
    {
     "name": "stdout",
     "output_type": "stream",
     "text": [
      "Time took 2.2257 s\n",
      "1644574017.3448708\n",
      "1644574019.5706189\n",
      "Mean Absolute Percentage Error(MAPE)------------------------------------ 57.27464405264734\n",
      "{'changepoint_prior_scale': 0.5, 'holidays_prior_scale': 0.1, 'n_changepoints': 25, 'seasonality_mode': 'multiplicative'}\n"
     ]
    },
    {
     "name": "stderr",
     "output_type": "stream",
     "text": [
      "INFO:fbprophet:Disabling daily seasonality. Run prophet with daily_seasonality=True to override this.\n"
     ]
    },
    {
     "name": "stdout",
     "output_type": "stream",
     "text": [
      "Time took 2.2827 s\n",
      "1644574020.7399297\n",
      "1644574023.0226367\n",
      "Mean Absolute Percentage Error(MAPE)------------------------------------ 58.08820045589885\n",
      "{'changepoint_prior_scale': 0.5, 'holidays_prior_scale': 0.1, 'n_changepoints': 25, 'seasonality_mode': 'additive'}\n",
      "Time took 3.3961 s\n",
      "1644574024.3418689\n",
      "1644574027.7379222\n",
      "Mean Absolute Percentage Error(MAPE)------------------------------------ 60.61153974359909\n",
      "{'changepoint_prior_scale': 0.5, 'holidays_prior_scale': 0.1, 'n_changepoints': 50, 'seasonality_mode': 'multiplicative'}\n"
     ]
    },
    {
     "name": "stderr",
     "output_type": "stream",
     "text": [
      "INFO:fbprophet:Disabling daily seasonality. Run prophet with daily_seasonality=True to override this.\n",
      "INFO:fbprophet:Disabling daily seasonality. Run prophet with daily_seasonality=True to override this.\n"
     ]
    },
    {
     "name": "stdout",
     "output_type": "stream",
     "text": [
      "Time took 2.2867 s\n",
      "1644574029.2743871\n",
      "1644574031.5610595\n",
      "Mean Absolute Percentage Error(MAPE)------------------------------------ 58.08820045589885\n",
      "{'changepoint_prior_scale': 0.5, 'holidays_prior_scale': 0.1, 'n_changepoints': 50, 'seasonality_mode': 'additive'}\n"
     ]
    },
    {
     "name": "stderr",
     "output_type": "stream",
     "text": [
      "INFO:fbprophet:Disabling daily seasonality. Run prophet with daily_seasonality=True to override this.\n"
     ]
    },
    {
     "name": "stdout",
     "output_type": "stream",
     "text": [
      "Time took 2.3437 s\n",
      "1644574032.627449\n",
      "1644574034.9711087\n",
      "Mean Absolute Percentage Error(MAPE)------------------------------------ 60.61153974359909\n",
      "{'changepoint_prior_scale': 0.5, 'holidays_prior_scale': 0.1, 'n_changepoints': 75, 'seasonality_mode': 'multiplicative'}\n",
      "Time took 2.3447 s\n",
      "1644574036.1184363\n",
      "1644574038.4630942\n",
      "Mean Absolute Percentage Error(MAPE)------------------------------------ 58.08820045589885\n",
      "{'changepoint_prior_scale': 0.5, 'holidays_prior_scale': 0.1, 'n_changepoints': 75, 'seasonality_mode': 'additive'}\n"
     ]
    },
    {
     "name": "stderr",
     "output_type": "stream",
     "text": [
      "INFO:fbprophet:Disabling daily seasonality. Run prophet with daily_seasonality=True to override this.\n",
      "INFO:fbprophet:Disabling daily seasonality. Run prophet with daily_seasonality=True to override this.\n"
     ]
    },
    {
     "name": "stdout",
     "output_type": "stream",
     "text": [
      "Time took 2.4196 s\n",
      "1644574039.7363677\n",
      "1644574042.1559997\n",
      "Mean Absolute Percentage Error(MAPE)------------------------------------ 60.61153974359909\n",
      "{'changepoint_prior_scale': 0.5, 'holidays_prior_scale': 0.1, 'n_changepoints': 100, 'seasonality_mode': 'multiplicative'}\n",
      "Time took 2.3277 s\n",
      "1644574043.281336\n",
      "1644574045.6090238\n",
      "Mean Absolute Percentage Error(MAPE)------------------------------------ 58.08820045589885\n",
      "{'changepoint_prior_scale': 0.5, 'holidays_prior_scale': 0.1, 'n_changepoints': 100, 'seasonality_mode': 'additive'}\n"
     ]
    },
    {
     "name": "stderr",
     "output_type": "stream",
     "text": [
      "INFO:fbprophet:Disabling daily seasonality. Run prophet with daily_seasonality=True to override this.\n",
      "INFO:fbprophet:Disabling daily seasonality. Run prophet with daily_seasonality=True to override this.\n"
     ]
    },
    {
     "name": "stdout",
     "output_type": "stream",
     "text": [
      "Time took 3.5510 s\n",
      "1644574046.6493232\n",
      "1644574050.200317\n",
      "Mean Absolute Percentage Error(MAPE)------------------------------------ 60.61153974359909\n",
      "{'changepoint_prior_scale': 0.5, 'holidays_prior_scale': 0.2, 'n_changepoints': 25, 'seasonality_mode': 'multiplicative'}\n"
     ]
    },
    {
     "name": "stderr",
     "output_type": "stream",
     "text": [
      "INFO:fbprophet:Disabling daily seasonality. Run prophet with daily_seasonality=True to override this.\n"
     ]
    },
    {
     "name": "stdout",
     "output_type": "stream",
     "text": [
      "Time took 2.1627 s\n",
      "1644574051.9658334\n",
      "1644574054.1285756\n",
      "Mean Absolute Percentage Error(MAPE)------------------------------------ 55.21855676092359\n",
      "{'changepoint_prior_scale': 0.5, 'holidays_prior_scale': 0.2, 'n_changepoints': 25, 'seasonality_mode': 'additive'}\n"
     ]
    },
    {
     "name": "stderr",
     "output_type": "stream",
     "text": [
      "INFO:fbprophet:Disabling daily seasonality. Run prophet with daily_seasonality=True to override this.\n"
     ]
    },
    {
     "name": "stdout",
     "output_type": "stream",
     "text": [
      "Time took 2.2147 s\n",
      "1644574055.2926683\n",
      "1644574057.5073977\n",
      "Mean Absolute Percentage Error(MAPE)------------------------------------ 59.98742067931363\n",
      "{'changepoint_prior_scale': 0.5, 'holidays_prior_scale': 0.2, 'n_changepoints': 50, 'seasonality_mode': 'multiplicative'}\n"
     ]
    },
    {
     "name": "stderr",
     "output_type": "stream",
     "text": [
      "INFO:fbprophet:Disabling daily seasonality. Run prophet with daily_seasonality=True to override this.\n"
     ]
    },
    {
     "name": "stdout",
     "output_type": "stream",
     "text": [
      "Time took 2.7395 s\n",
      "1644574060.1818688\n",
      "1644574062.9213197\n",
      "Mean Absolute Percentage Error(MAPE)------------------------------------ 55.21855676092359\n",
      "{'changepoint_prior_scale': 0.5, 'holidays_prior_scale': 0.2, 'n_changepoints': 50, 'seasonality_mode': 'additive'}\n"
     ]
    },
    {
     "name": "stderr",
     "output_type": "stream",
     "text": [
      "INFO:fbprophet:Disabling daily seasonality. Run prophet with daily_seasonality=True to override this.\n"
     ]
    },
    {
     "name": "stdout",
     "output_type": "stream",
     "text": [
      "Time took 2.1028 s\n",
      "1644574064.1201515\n",
      "1644574066.222962\n",
      "Mean Absolute Percentage Error(MAPE)------------------------------------ 59.98742067931363\n",
      "{'changepoint_prior_scale': 0.5, 'holidays_prior_scale': 0.2, 'n_changepoints': 75, 'seasonality_mode': 'multiplicative'}\n"
     ]
    },
    {
     "name": "stderr",
     "output_type": "stream",
     "text": [
      "INFO:fbprophet:Disabling daily seasonality. Run prophet with daily_seasonality=True to override this.\n"
     ]
    },
    {
     "name": "stdout",
     "output_type": "stream",
     "text": [
      "Time took 1.8459 s\n",
      "1644574068.1744974\n",
      "1644574070.0204384\n",
      "Mean Absolute Percentage Error(MAPE)------------------------------------ 55.21855676092359\n",
      "{'changepoint_prior_scale': 0.5, 'holidays_prior_scale': 0.2, 'n_changepoints': 75, 'seasonality_mode': 'additive'}\n"
     ]
    },
    {
     "name": "stderr",
     "output_type": "stream",
     "text": [
      "INFO:fbprophet:Disabling daily seasonality. Run prophet with daily_seasonality=True to override this.\n"
     ]
    },
    {
     "name": "stdout",
     "output_type": "stream",
     "text": [
      "Time took 1.8749 s\n",
      "1644574071.0125318\n",
      "1644574072.8874738\n",
      "Mean Absolute Percentage Error(MAPE)------------------------------------ 59.98742067931363\n",
      "{'changepoint_prior_scale': 0.5, 'holidays_prior_scale': 0.2, 'n_changepoints': 100, 'seasonality_mode': 'multiplicative'}\n"
     ]
    },
    {
     "name": "stderr",
     "output_type": "stream",
     "text": [
      "INFO:fbprophet:Disabling daily seasonality. Run prophet with daily_seasonality=True to override this.\n"
     ]
    },
    {
     "name": "stdout",
     "output_type": "stream",
     "text": [
      "Time took 2.2267 s\n",
      "1644574074.5355377\n",
      "1644574076.7622375\n",
      "Mean Absolute Percentage Error(MAPE)------------------------------------ 55.21855676092359\n",
      "{'changepoint_prior_scale': 0.5, 'holidays_prior_scale': 0.2, 'n_changepoints': 100, 'seasonality_mode': 'additive'}\n"
     ]
    },
    {
     "name": "stderr",
     "output_type": "stream",
     "text": [
      "INFO:fbprophet:Disabling daily seasonality. Run prophet with daily_seasonality=True to override this.\n"
     ]
    },
    {
     "name": "stdout",
     "output_type": "stream",
     "text": [
      "Time took 3.1952 s\n",
      "1644574078.00153\n",
      "1644574081.1967006\n",
      "Mean Absolute Percentage Error(MAPE)------------------------------------ 59.98742067931363\n",
      "{'changepoint_prior_scale': 0.5, 'holidays_prior_scale': 0.3, 'n_changepoints': 25, 'seasonality_mode': 'multiplicative'}\n",
      "Time took 2.6495 s\n",
      "1644574082.5882487\n",
      "1644574085.2377324\n",
      "Mean Absolute Percentage Error(MAPE)------------------------------------ 57.53924508818308\n",
      "{'changepoint_prior_scale': 0.5, 'holidays_prior_scale': 0.3, 'n_changepoints': 25, 'seasonality_mode': 'additive'}\n"
     ]
    },
    {
     "name": "stderr",
     "output_type": "stream",
     "text": [
      "INFO:fbprophet:Disabling daily seasonality. Run prophet with daily_seasonality=True to override this.\n"
     ]
    },
    {
     "name": "stdout",
     "output_type": "stream",
     "text": [
      "Time took 2.4986 s\n",
      "1644574086.3321066\n",
      "1644574088.8306954\n",
      "Mean Absolute Percentage Error(MAPE)------------------------------------ 60.123424634912205\n",
      "{'changepoint_prior_scale': 0.5, 'holidays_prior_scale': 0.3, 'n_changepoints': 50, 'seasonality_mode': 'multiplicative'}\n"
     ]
    },
    {
     "name": "stderr",
     "output_type": "stream",
     "text": [
      "INFO:fbprophet:Disabling daily seasonality. Run prophet with daily_seasonality=True to override this.\n"
     ]
    },
    {
     "name": "stdout",
     "output_type": "stream",
     "text": [
      "Time took 2.8054 s\n",
      "1644574090.2438698\n",
      "1644574093.049263\n",
      "Mean Absolute Percentage Error(MAPE)------------------------------------ 57.53924508818308\n",
      "{'changepoint_prior_scale': 0.5, 'holidays_prior_scale': 0.3, 'n_changepoints': 50, 'seasonality_mode': 'additive'}\n"
     ]
    },
    {
     "name": "stderr",
     "output_type": "stream",
     "text": [
      "INFO:fbprophet:Disabling daily seasonality. Run prophet with daily_seasonality=True to override this.\n",
      "INFO:fbprophet:Disabling daily seasonality. Run prophet with daily_seasonality=True to override this.\n"
     ]
    },
    {
     "name": "stdout",
     "output_type": "stream",
     "text": [
      "Time took 2.3506 s\n",
      "1644574094.3496637\n",
      "1644574096.700305\n",
      "Mean Absolute Percentage Error(MAPE)------------------------------------ 60.123424634912205\n",
      "{'changepoint_prior_scale': 0.5, 'holidays_prior_scale': 0.3, 'n_changepoints': 75, 'seasonality_mode': 'multiplicative'}\n",
      "Time took 1.8849 s\n",
      "1644574097.8711598\n",
      "1644574099.7560816\n",
      "Mean Absolute Percentage Error(MAPE)------------------------------------ 57.53924508818308\n",
      "{'changepoint_prior_scale': 0.5, 'holidays_prior_scale': 0.3, 'n_changepoints': 75, 'seasonality_mode': 'additive'}\n"
     ]
    },
    {
     "name": "stderr",
     "output_type": "stream",
     "text": [
      "INFO:fbprophet:Disabling daily seasonality. Run prophet with daily_seasonality=True to override this.\n",
      "INFO:fbprophet:Disabling daily seasonality. Run prophet with daily_seasonality=True to override this.\n"
     ]
    },
    {
     "name": "stdout",
     "output_type": "stream",
     "text": [
      "Time took 2.1817 s\n",
      "1644574100.5744119\n",
      "1644574102.7561443\n",
      "Mean Absolute Percentage Error(MAPE)------------------------------------ 60.123424634912205\n",
      "{'changepoint_prior_scale': 0.5, 'holidays_prior_scale': 0.3, 'n_changepoints': 100, 'seasonality_mode': 'multiplicative'}\n"
     ]
    },
    {
     "name": "stderr",
     "output_type": "stream",
     "text": [
      "INFO:fbprophet:Disabling daily seasonality. Run prophet with daily_seasonality=True to override this.\n"
     ]
    },
    {
     "name": "stdout",
     "output_type": "stream",
     "text": [
      "Time took 2.2577 s\n",
      "1644574104.0307214\n",
      "1644574106.2884068\n",
      "Mean Absolute Percentage Error(MAPE)------------------------------------ 57.53924508818308\n",
      "{'changepoint_prior_scale': 0.5, 'holidays_prior_scale': 0.3, 'n_changepoints': 100, 'seasonality_mode': 'additive'}\n",
      "Time took 2.3427 s\n",
      "1644574107.020987\n",
      "1644574109.3636448\n",
      "Mean Absolute Percentage Error(MAPE)------------------------------------ 60.123424634912205\n",
      "{'changepoint_prior_scale': 0.5, 'holidays_prior_scale': 0.4, 'n_changepoints': 25, 'seasonality_mode': 'multiplicative'}\n"
     ]
    },
    {
     "name": "stderr",
     "output_type": "stream",
     "text": [
      "INFO:fbprophet:Disabling daily seasonality. Run prophet with daily_seasonality=True to override this.\n",
      "INFO:fbprophet:Disabling daily seasonality. Run prophet with daily_seasonality=True to override this.\n"
     ]
    },
    {
     "name": "stdout",
     "output_type": "stream",
     "text": [
      "Time took 1.9189 s\n",
      "1644574110.348996\n",
      "1644574112.267918\n",
      "Mean Absolute Percentage Error(MAPE)------------------------------------ 57.726448003401195\n",
      "{'changepoint_prior_scale': 0.5, 'holidays_prior_scale': 0.4, 'n_changepoints': 25, 'seasonality_mode': 'additive'}\n"
     ]
    },
    {
     "name": "stderr",
     "output_type": "stream",
     "text": [
      "INFO:fbprophet:Disabling daily seasonality. Run prophet with daily_seasonality=True to override this.\n"
     ]
    },
    {
     "name": "stdout",
     "output_type": "stream",
     "text": [
      "Time took 2.2497 s\n",
      "1644574113.2943103\n",
      "1644574115.5440388\n",
      "Mean Absolute Percentage Error(MAPE)------------------------------------ 60.06796018445413\n",
      "{'changepoint_prior_scale': 0.5, 'holidays_prior_scale': 0.4, 'n_changepoints': 50, 'seasonality_mode': 'multiplicative'}\n"
     ]
    },
    {
     "name": "stderr",
     "output_type": "stream",
     "text": [
      "INFO:fbprophet:Disabling daily seasonality. Run prophet with daily_seasonality=True to override this.\n"
     ]
    },
    {
     "name": "stdout",
     "output_type": "stream",
     "text": [
      "Time took 1.8359 s\n",
      "1644574116.3329837\n",
      "1644574118.168933\n",
      "Mean Absolute Percentage Error(MAPE)------------------------------------ 57.726448003401195\n",
      "{'changepoint_prior_scale': 0.5, 'holidays_prior_scale': 0.4, 'n_changepoints': 50, 'seasonality_mode': 'additive'}\n"
     ]
    },
    {
     "name": "stderr",
     "output_type": "stream",
     "text": [
      "INFO:fbprophet:Disabling daily seasonality. Run prophet with daily_seasonality=True to override this.\n"
     ]
    },
    {
     "name": "stdout",
     "output_type": "stream",
     "text": [
      "Time took 2.2967 s\n",
      "1644574119.4268508\n",
      "1644574121.7235568\n",
      "Mean Absolute Percentage Error(MAPE)------------------------------------ 60.06796018445413\n",
      "{'changepoint_prior_scale': 0.5, 'holidays_prior_scale': 0.4, 'n_changepoints': 75, 'seasonality_mode': 'multiplicative'}\n"
     ]
    },
    {
     "name": "stderr",
     "output_type": "stream",
     "text": [
      "INFO:fbprophet:Disabling daily seasonality. Run prophet with daily_seasonality=True to override this.\n"
     ]
    },
    {
     "name": "stdout",
     "output_type": "stream",
     "text": [
      "Time took 1.8220 s\n",
      "1644574122.8559043\n",
      "1644574124.6778665\n",
      "Mean Absolute Percentage Error(MAPE)------------------------------------ 57.726448003401195\n",
      "{'changepoint_prior_scale': 0.5, 'holidays_prior_scale': 0.4, 'n_changepoints': 75, 'seasonality_mode': 'additive'}\n"
     ]
    },
    {
     "name": "stderr",
     "output_type": "stream",
     "text": [
      "INFO:fbprophet:Disabling daily seasonality. Run prophet with daily_seasonality=True to override this.\n"
     ]
    },
    {
     "name": "stdout",
     "output_type": "stream",
     "text": [
      "Time took 2.1088 s\n",
      "1644574125.7438362\n",
      "1644574127.852629\n",
      "Mean Absolute Percentage Error(MAPE)------------------------------------ 60.06796018445413\n",
      "{'changepoint_prior_scale': 0.5, 'holidays_prior_scale': 0.4, 'n_changepoints': 100, 'seasonality_mode': 'multiplicative'}\n"
     ]
    },
    {
     "name": "stderr",
     "output_type": "stream",
     "text": [
      "INFO:fbprophet:Disabling daily seasonality. Run prophet with daily_seasonality=True to override this.\n"
     ]
    },
    {
     "name": "stdout",
     "output_type": "stream",
     "text": [
      "Time took 1.9709 s\n",
      "1644574128.6569548\n",
      "1644574130.6278477\n",
      "Mean Absolute Percentage Error(MAPE)------------------------------------ 57.726448003401195\n",
      "{'changepoint_prior_scale': 0.5, 'holidays_prior_scale': 0.4, 'n_changepoints': 100, 'seasonality_mode': 'additive'}\n",
      "Time took 2.3897 s\n",
      "1644574131.596859\n",
      "1644574133.9865103\n",
      "Mean Absolute Percentage Error(MAPE)------------------------------------ 60.06796018445413\n",
      "{'changepoint_prior_scale': 0.5, 'holidays_prior_scale': 0.5, 'n_changepoints': 25, 'seasonality_mode': 'multiplicative'}\n"
     ]
    },
    {
     "name": "stderr",
     "output_type": "stream",
     "text": [
      "INFO:fbprophet:Disabling daily seasonality. Run prophet with daily_seasonality=True to override this.\n",
      "INFO:fbprophet:Disabling daily seasonality. Run prophet with daily_seasonality=True to override this.\n"
     ]
    },
    {
     "name": "stdout",
     "output_type": "stream",
     "text": [
      "Time took 2.0228 s\n",
      "1644574135.125839\n",
      "1644574137.1486819\n",
      "Mean Absolute Percentage Error(MAPE)------------------------------------ 57.86256183235082\n",
      "{'changepoint_prior_scale': 0.5, 'holidays_prior_scale': 0.5, 'n_changepoints': 25, 'seasonality_mode': 'additive'}\n",
      "Time took 2.0358 s\n",
      "1644574138.118147\n",
      "1644574140.1539617\n",
      "Mean Absolute Percentage Error(MAPE)------------------------------------ 59.759798545146595\n",
      "{'changepoint_prior_scale': 0.5, 'holidays_prior_scale': 0.5, 'n_changepoints': 50, 'seasonality_mode': 'multiplicative'}\n"
     ]
    },
    {
     "name": "stderr",
     "output_type": "stream",
     "text": [
      "INFO:fbprophet:Disabling daily seasonality. Run prophet with daily_seasonality=True to override this.\n",
      "INFO:fbprophet:Disabling daily seasonality. Run prophet with daily_seasonality=True to override this.\n"
     ]
    },
    {
     "name": "stdout",
     "output_type": "stream",
     "text": [
      "Time took 2.9263 s\n",
      "1644574141.662104\n",
      "1644574144.588424\n",
      "Mean Absolute Percentage Error(MAPE)------------------------------------ 57.86256183235082\n",
      "{'changepoint_prior_scale': 0.5, 'holidays_prior_scale': 0.5, 'n_changepoints': 50, 'seasonality_mode': 'additive'}\n"
     ]
    },
    {
     "name": "stderr",
     "output_type": "stream",
     "text": [
      "INFO:fbprophet:Disabling daily seasonality. Run prophet with daily_seasonality=True to override this.\n"
     ]
    },
    {
     "name": "stdout",
     "output_type": "stream",
     "text": [
      "Time took 2.5236 s\n",
      "1644574145.7327697\n",
      "1644574148.256344\n",
      "Mean Absolute Percentage Error(MAPE)------------------------------------ 59.759798545146595\n",
      "{'changepoint_prior_scale': 0.5, 'holidays_prior_scale': 0.5, 'n_changepoints': 75, 'seasonality_mode': 'multiplicative'}\n"
     ]
    },
    {
     "name": "stderr",
     "output_type": "stream",
     "text": [
      "INFO:fbprophet:Disabling daily seasonality. Run prophet with daily_seasonality=True to override this.\n"
     ]
    },
    {
     "name": "stdout",
     "output_type": "stream",
     "text": [
      "Time took 2.2167 s\n",
      "1644574149.4631517\n",
      "1644574151.679884\n",
      "Mean Absolute Percentage Error(MAPE)------------------------------------ 57.86256183235082\n",
      "{'changepoint_prior_scale': 0.5, 'holidays_prior_scale': 0.5, 'n_changepoints': 75, 'seasonality_mode': 'additive'}\n"
     ]
    },
    {
     "name": "stderr",
     "output_type": "stream",
     "text": [
      "INFO:fbprophet:Disabling daily seasonality. Run prophet with daily_seasonality=True to override this.\n"
     ]
    },
    {
     "name": "stdout",
     "output_type": "stream",
     "text": [
      "Time took 2.3827 s\n",
      "1644574152.8445163\n",
      "1644574155.2271729\n",
      "Mean Absolute Percentage Error(MAPE)------------------------------------ 59.759798545146595\n",
      "{'changepoint_prior_scale': 0.5, 'holidays_prior_scale': 0.5, 'n_changepoints': 100, 'seasonality_mode': 'multiplicative'}\n"
     ]
    },
    {
     "name": "stderr",
     "output_type": "stream",
     "text": [
      "INFO:fbprophet:Disabling daily seasonality. Run prophet with daily_seasonality=True to override this.\n"
     ]
    },
    {
     "name": "stdout",
     "output_type": "stream",
     "text": [
      "Time took 2.3027 s\n",
      "1644574156.5463984\n",
      "1644574158.8490798\n",
      "Mean Absolute Percentage Error(MAPE)------------------------------------ 57.86256183235082\n",
      "{'changepoint_prior_scale': 0.5, 'holidays_prior_scale': 0.5, 'n_changepoints': 100, 'seasonality_mode': 'additive'}\n",
      "Time took 2.0758 s\n",
      "1644574159.8863392\n",
      "1644574161.9621346\n",
      "Mean Absolute Percentage Error(MAPE)------------------------------------ 59.759798545146595\n"
     ]
    }
   ],
   "source": [
    "\n",
    "strt='1/3/2020'\n",
    "end='25-11-21'\n",
    "import random\n",
    "model_parameters = pd.DataFrame(columns = ['MAPE','Parameters'])\n",
    "import sys, time\n",
    "\n",
    "for p in grid:\n",
    "    test = pd.DataFrame()\n",
    "    print(p)\n",
    "    random.seed(0)\n",
    "    train_model =Prophet(changepoint_prior_scale = p['changepoint_prior_scale'],\n",
    "                         holidays_prior_scale = p['holidays_prior_scale'],\n",
    "                         \n",
    "                         seasonality_mode = p['seasonality_mode'],\n",
    "                         weekly_seasonality=True,\n",
    "                        \n",
    "                         yearly_seasonality = True,\n",
    "                         holidays=holiday, \n",
    "                         interval_width=0.95)\n",
    "   \n",
    "  \n",
    "    train_model.add_country_holidays(country_name='US')\n",
    "    train_model.fit(train_data_pr)\n",
    "    train_forecast = train_model.make_future_dataframe(periods=30\n",
    "                                                       , freq='D',include_history = False)\n",
    "    start=time.time() \n",
    "    train_forecast = train_model.predict(train_forecast)\n",
    "    end = time.time()\n",
    "    print(\"Time took {:3.4f} s\".format((end-start)))\n",
    "    print(start)\n",
    "    print(end)\n",
    "    test=train_forecast[['ds','yhat']]\n",
    "    Actual = test_data_pr['y']\n",
    "    MAPE = mean_absolute_percentage_error(Actual,abs(test['yhat']))\n",
    "    print('Mean Absolute Percentage Error(MAPE)------------------------------------',MAPE)\n",
    "    model_parameters = model_parameters.append({'MAPE':MAPE,'Parameters':p},ignore_index=True)"
   ]
  },
  {
   "cell_type": "code",
   "execution_count": 8,
   "metadata": {},
   "outputs": [
    {
     "data": {
      "text/html": [
       "<div>\n",
       "<style scoped>\n",
       "    .dataframe tbody tr th:only-of-type {\n",
       "        vertical-align: middle;\n",
       "    }\n",
       "\n",
       "    .dataframe tbody tr th {\n",
       "        vertical-align: top;\n",
       "    }\n",
       "\n",
       "    .dataframe thead th {\n",
       "        text-align: right;\n",
       "    }\n",
       "</style>\n",
       "<table border=\"1\" class=\"dataframe\">\n",
       "  <thead>\n",
       "    <tr style=\"text-align: right;\">\n",
       "      <th></th>\n",
       "      <th>MAPE</th>\n",
       "      <th>Parameters</th>\n",
       "    </tr>\n",
       "  </thead>\n",
       "  <tbody>\n",
       "    <tr>\n",
       "      <td>0</td>\n",
       "      <td>40.810560</td>\n",
       "      <td>{'changepoint_prior_scale': 0.1, 'holidays_pri...</td>\n",
       "    </tr>\n",
       "    <tr>\n",
       "      <td>1</td>\n",
       "      <td>40.810560</td>\n",
       "      <td>{'changepoint_prior_scale': 0.1, 'holidays_pri...</td>\n",
       "    </tr>\n",
       "    <tr>\n",
       "      <td>2</td>\n",
       "      <td>40.810560</td>\n",
       "      <td>{'changepoint_prior_scale': 0.1, 'holidays_pri...</td>\n",
       "    </tr>\n",
       "    <tr>\n",
       "      <td>3</td>\n",
       "      <td>40.810560</td>\n",
       "      <td>{'changepoint_prior_scale': 0.1, 'holidays_pri...</td>\n",
       "    </tr>\n",
       "    <tr>\n",
       "      <td>4</td>\n",
       "      <td>40.823274</td>\n",
       "      <td>{'changepoint_prior_scale': 0.1, 'holidays_pri...</td>\n",
       "    </tr>\n",
       "  </tbody>\n",
       "</table>\n",
       "</div>"
      ],
      "text/plain": [
       "        MAPE                                         Parameters\n",
       "0  40.810560  {'changepoint_prior_scale': 0.1, 'holidays_pri...\n",
       "1  40.810560  {'changepoint_prior_scale': 0.1, 'holidays_pri...\n",
       "2  40.810560  {'changepoint_prior_scale': 0.1, 'holidays_pri...\n",
       "3  40.810560  {'changepoint_prior_scale': 0.1, 'holidays_pri...\n",
       "4  40.823274  {'changepoint_prior_scale': 0.1, 'holidays_pri..."
      ]
     },
     "execution_count": 8,
     "metadata": {},
     "output_type": "execute_result"
    }
   ],
   "source": [
    "parameters = model_parameters.sort_values(by=['MAPE'])\n",
    "parameters = parameters.reset_index(drop=True)\n",
    "parameters.head()\n"
   ]
  },
  {
   "cell_type": "code",
   "execution_count": null,
   "metadata": {},
   "outputs": [],
   "source": [
    "parameters['Parameters'][0]"
   ]
  },
  {
   "cell_type": "code",
   "execution_count": null,
   "metadata": {},
   "outputs": [],
   "source": [
    "beta = np.array(final_model.params[\"beta\"])[0]\n",
    "beta"
   ]
  },
  {
   "cell_type": "code",
   "execution_count": 9,
   "metadata": {},
   "outputs": [
    {
     "name": "stderr",
     "output_type": "stream",
     "text": [
      "INFO:fbprophet:Disabling daily seasonality. Run prophet with daily_seasonality=True to override this.\n"
     ]
    },
    {
     "name": "stdout",
     "output_type": "stream",
     "text": [
      "Time took 1.2983 s\n",
      "1644574206.2497122\n",
      "1644574207.5479913\n"
     ]
    }
   ],
   "source": [
    "start=time.time() \n",
    "\n",
    "# Setup and train model with holidays\n",
    "final_model = Prophet(holidays=holiday,\n",
    "                      changepoint_prior_scale= 0.2,\n",
    "                      holidays_prior_scale = 0.1,\n",
    "                      growth='logistic',\n",
    "                      n_changepoints=100,\n",
    "                      seasonality_mode = 'additive',\n",
    "                      \n",
    "                      weekly_seasonality=3,\n",
    "                      \n",
    "                      yearly_seasonality=10,\n",
    "                      interval_width=0.95)\n",
    "final_model.add_country_holidays(country_name='US')\n",
    "final_model.fit(train_data_pr)\n",
    "\n",
    "end = time.time()\n",
    "print(\"Time took {:3.4f} s\".format((end-start)))\n",
    "print(start)\n",
    "print(end)"
   ]
  },
  {
   "cell_type": "code",
   "execution_count": 34,
   "metadata": {},
   "outputs": [
    {
     "name": "stdout",
     "output_type": "stream",
     "text": [
      "Time took 6.4671 s\n",
      "1644761692.6994312\n",
      "1644761699.1665006\n"
     ]
    }
   ],
   "source": [
    "\n",
    "start=time.time() \n",
    "future = final_model.make_future_dataframe(periods=30, freq='D')\n",
    "future['cap'] = 400\n",
    "forecast = final_model.predict(future)\n",
    "forecast[['ds', 'yhat', 'yhat_lower', 'yhat_upper']].tail(7)\n",
    "\n",
    "end = time.time()\n",
    "print(\"Time took {:3.4f} s\".format((end-start)))\n",
    "print(start)\n",
    "print(end)"
   ]
  },
  {
   "cell_type": "code",
   "execution_count": 36,
   "metadata": {},
   "outputs": [
    {
     "data": {
      "text/plain": [
       "0      75.598836\n",
       "1      73.035864\n",
       "2      64.537994\n",
       "3      65.998700\n",
       "4      66.474474\n",
       "         ...    \n",
       "658    85.057204\n",
       "659    83.206307\n",
       "660    80.278805\n",
       "661    71.506330\n",
       "662    72.782990\n",
       "Name: yhat, Length: 663, dtype: float64"
      ]
     },
     "execution_count": 36,
     "metadata": {},
     "output_type": "execute_result"
    }
   ],
   "source": [
    "forecast['yhat']"
   ]
  },
  {
   "cell_type": "code",
   "execution_count": 37,
   "metadata": {},
   "outputs": [
    {
     "data": {
      "image/png": "[encoded data removed]",
      "text/plain": [
       "<Figure size 648x864 with 4 Axes>"
      ]
     },
     "metadata": {},
     "output_type": "display_data"
    }
   ],
   "source": [
    "fig = final_model.plot_components(forecast)"
   ]
  },
  {
   "cell_type": "code",
   "execution_count": 15,
   "metadata": {},
   "outputs": [
    {
     "data": {
      "image/png": "[encoded data removed]",
      "text/plain": [
       "<Figure size 1080x360 with 1 Axes>"
      ]
     },
     "metadata": {
      "needs_background": "light"
     },
     "output_type": "display_data"
    },
    {
     "name": "stdout",
     "output_type": "stream",
     "text": [
      "            ds      trend  cap  yhat_lower  yhat_upper  trend_lower  \\\n",
      "0   2020-01-03  41.091510  400    6.706065  142.950870    41.091510   \n",
      "1   2020-01-04  41.151685  400    7.034709  139.313694    41.151685   \n",
      "2   2020-01-05  41.211938  400   -3.682630  131.190840    41.211938   \n",
      "3   2020-01-06  41.272269  400   -5.547236  134.064190    41.272269   \n",
      "4   2020-01-07  41.332678  400   -4.017295  127.286065    41.332678   \n",
      "..         ...        ...  ...         ...         ...          ...   \n",
      "658 2022-01-06  53.581836  400   14.981128  154.734451    53.477097   \n",
      "659 2022-01-07  53.553558  400   16.651935  153.557755    53.442146   \n",
      "660 2022-01-08  53.525292  400   13.084257  144.396211    53.409987   \n",
      "661 2022-01-09  53.497039  400    7.411936  140.547842    53.375227   \n",
      "662 2022-01-10  53.468799  400    7.558171  140.126119    53.339661   \n",
      "\n",
      "     trend_upper  Christmas Day  Christmas Day_lower  Christmas Day_upper  \\\n",
      "0      41.091510            0.0                  0.0                  0.0   \n",
      "1      41.151685            0.0                  0.0                  0.0   \n",
      "2      41.211938            0.0                  0.0                  0.0   \n",
      "3      41.272269            0.0                  0.0                  0.0   \n",
      "4      41.332678            0.0                  0.0                  0.0   \n",
      "..           ...            ...                  ...                  ...   \n",
      "658    53.674739            0.0                  0.0                  0.0   \n",
      "659    53.653148            0.0                  0.0                  0.0   \n",
      "660    53.629654            0.0                  0.0                  0.0   \n",
      "661    53.605485            0.0                  0.0                  0.0   \n",
      "662    53.582375            0.0                  0.0                  0.0   \n",
      "\n",
      "     ...    weekly  weekly_lower  weekly_upper     yearly  yearly_lower  \\\n",
      "0    ...  4.447707      4.447707      4.447707  30.059618     30.059618   \n",
      "1    ...  2.763994      2.763994      2.763994  29.120185     29.120185   \n",
      "2    ... -4.759052     -4.759052     -4.759052  28.085108     28.085108   \n",
      "3    ... -2.246737     -2.246737     -2.246737  26.973168     26.973168   \n",
      "4    ... -0.662556     -0.662556     -0.662556  25.804353     25.804353   \n",
      "..   ...       ...           ...           ...        ...           ...   \n",
      "658  ...  5.080778      5.080778      5.080778  26.394590     26.394590   \n",
      "659  ...  4.447707      4.447707      4.447707  25.205042     25.205042   \n",
      "660  ...  2.763994      2.763994      2.763994  23.989519     23.989519   \n",
      "661  ... -4.759052     -4.759052     -4.759052  22.768343     22.768343   \n",
      "662  ... -2.246737     -2.246737     -2.246737  21.560928     21.560928   \n",
      "\n",
      "     yearly_upper  multiplicative_terms  multiplicative_terms_lower  \\\n",
      "0       30.059618                   0.0                         0.0   \n",
      "1       29.120185                   0.0                         0.0   \n",
      "2       28.085108                   0.0                         0.0   \n",
      "3       26.973168                   0.0                         0.0   \n",
      "4       25.804353                   0.0                         0.0   \n",
      "..            ...                   ...                         ...   \n",
      "658     26.394590                   0.0                         0.0   \n",
      "659     25.205042                   0.0                         0.0   \n",
      "660     23.989519                   0.0                         0.0   \n",
      "661     22.768343                   0.0                         0.0   \n",
      "662     21.560928                   0.0                         0.0   \n",
      "\n",
      "     multiplicative_terms_upper       yhat  \n",
      "0                           0.0  75.598836  \n",
      "1                           0.0  73.035864  \n",
      "2                           0.0  64.537994  \n",
      "3                           0.0  65.998700  \n",
      "4                           0.0  66.474474  \n",
      "..                          ...        ...  \n",
      "658                         0.0  85.057204  \n",
      "659                         0.0  83.206307  \n",
      "660                         0.0  80.278805  \n",
      "661                         0.0  71.506330  \n",
      "662                         0.0  72.782990  \n",
      "\n",
      "[663 rows x 65 columns]\n"
     ]
    }
   ],
   "source": [
    "# Plot the forecast\n",
    "f, ax = plt.subplots(1)\n",
    "f.set_figheight(5)\n",
    "f.set_figwidth(15)\n",
    "fig = final_model.plot(forecast,ax=ax)\n",
    "plt.show()\n",
    "print(forecast)"
   ]
  },
  {
   "cell_type": "code",
   "execution_count": 38,
   "metadata": {},
   "outputs": [
    {
     "name": "stdout",
     "output_type": "stream",
     "text": [
      "MAPE 36.43157077742492\n"
     ]
    }
   ],
   "source": [
    "MAPE = mean_absolute_percentage_error(test_data_pr['y'],abs(forecast[-30:][\"yhat\"]))\n",
    "print('MAPE', MAPE)"
   ]
  },
  {
   "cell_type": "code",
   "execution_count": 39,
   "metadata": {},
   "outputs": [
    {
     "name": "stdout",
     "output_type": "stream",
     "text": [
      "MAPE 36.4316\n",
      "MSE Error: 2415.0551228773566\n",
      "RMSE Error: 49.14321034362078\n",
      "MAE 37.1679\n"
     ]
    }
   ],
   "source": [
    "def mean_absolute_percentage_error(y_true, y_pred): \n",
    "    y_true, y_pred = np.array(y_true), np.array(y_pred)\n",
    "    return np.mean(np.abs((y_true - y_pred) / y_true)) * 100\n",
    "\n",
    "\n",
    "from math import sqrt\n",
    "from sklearn.metrics import mean_squared_error\n",
    "def rmse(predictions, targets): \n",
    "    return np.sqrt(((predictions - targets) ** 2).mean())\n",
    "\n",
    "\n",
    "rmse_error = rmse(test_data_pr['y'],forecast[-30:][\"yhat\"])\n",
    "mse_error = rmse_error**2\n",
    "#mean_value = df1['CaseCount'].mean()\n",
    "mape = mean_absolute_percentage_error(test_data_pr['y'], abs(forecast[-30:][\"yhat\"]))\n",
    "mae = np.mean(np.abs(forecast[-30:][\"yhat\"] - test_data_pr['y']))\n",
    "print(\"MAPE\",round(mape,4))\n",
    "print(f'MSE Error: {mse_error}\\nRMSE Error: {rmse_error}')\n",
    "print(\"MAE\",round(mae,4))"
   ]
  },
  {
   "cell_type": "code",
   "execution_count": null,
   "metadata": {},
   "outputs": [],
   "source": [
    "final_model.params"
   ]
  },
  {
   "cell_type": "code",
   "execution_count": null,
   "metadata": {},
   "outputs": [],
   "source": [
    "subset = [4,10]\n",
    "beta = np.array(final_model.params[\"beta\"])[0]\n",
    "beta"
   ]
  },
  {
   "cell_type": "code",
   "execution_count": null,
   "metadata": {},
   "outputs": [],
   "source": [
    "final_model.params"
   ]
  },
  {
   "cell_type": "code",
   "execution_count": null,
   "metadata": {},
   "outputs": [],
   "source": [
    "final_model.train_component_cols"
   ]
  },
  {
   "cell_type": "code",
   "execution_count": null,
   "metadata": {},
   "outputs": [],
   "source": [
    "final_model.params['beta']"
   ]
  },
  {
   "cell_type": "code",
   "execution_count": null,
   "metadata": {},
   "outputs": [],
   "source": [
    "plt.figure(figsize=(10,4))\n",
    "\n",
    "x = forecast.ds.values\n",
    "y = forecast.trend.values\n",
    "cp = final_model.changepoints\n",
    "\n",
    "plt.plot(x,y)\n",
    "ymin, ymax = plt.ylim()\n",
    "plt.vlines(cp.values, ymin, ymax, linestyles=\"dashed\")"
   ]
  },
  {
   "cell_type": "code",
   "execution_count": null,
   "metadata": {},
   "outputs": [],
   "source": [
    "final_model.plot(forecast);"
   ]
  },
  {
   "cell_type": "code",
   "execution_count": 18,
   "metadata": {},
   "outputs": [
    {
     "data": {
      "image/png": "[encoded data removed]",
      "text/plain": [
       "<Figure size 432x288 with 1 Axes>"
      ]
     },
     "metadata": {
      "needs_background": "light"
     },
     "output_type": "display_data"
    }
   ],
   "source": [
    "import matplotlib.pyplot as plt\n",
    "\n",
    "future = final_model.make_future_dataframe(periods=60, freq='D')\n",
    "future['cap'] = 300\n",
    "forecast = final_model.predict(future)\n",
    "forecast= forecast[30:]\n",
    "forecast[['ds', 'yhat', 'yhat_lower', 'yhat_upper']].tail(7)\n",
    "\n",
    "plt.plot(forecast[-30:][\"yhat\"], label=\"predicted values\")\n",
    "plt.plot(new['y'], label=\"Actual values\" )\n",
    "plt.legend(loc=\"upper right\")\n",
    "plt.show()"
   ]
  },
  {
   "cell_type": "code",
   "execution_count": 30,
   "metadata": {},
   "outputs": [
    {
     "name": "stdout",
     "output_type": "stream",
     "text": [
      "1      62.747943\n",
      "2      54.235009\n",
      "3      55.680633\n",
      "4      56.141305\n",
      "5      51.019982\n",
      "         ...    \n",
      "658    71.661745\n",
      "659    69.817917\n",
      "660    66.897482\n",
      "661    58.132070\n",
      "662    59.415790\n",
      "Name: yhat, Length: 662, dtype: float64\n"
     ]
    }
   ],
   "source": [
    "#print(b['y'])\n",
    "print(forecast[:][\"yhat\"])"
   ]
  },
  {
   "cell_type": "code",
   "execution_count": 40,
   "metadata": {},
   "outputs": [
    {
     "data": {
      "image/png": "[encoded data removed]",
      "text/plain": [
       "<Figure size 432x288 with 1 Axes>"
      ]
     },
     "metadata": {
      "needs_background": "light"
     },
     "output_type": "display_data"
    },
    {
     "name": "stdout",
     "output_type": "stream",
     "text": [
      "MAPE 225.1769\n",
      "MSE Error: 1285.5404409417042\n",
      "RMSE Error: 35.85443404854836\n",
      "MAE 24.4009\n"
     ]
    }
   ],
   "source": [
    "import matplotlib.pyplot as plt\n",
    "\n",
    "future = final_model.make_future_dataframe(periods=30, freq='D')\n",
    "future['cap'] = 300\n",
    "forecast = final_model.predict(future)\n",
    "forecast= forecast[1:692]\n",
    "forecast[['ds', 'yhat', 'yhat_lower', 'yhat_upper']].tail(7)\n",
    "\n",
    "plt.plot(forecast[1:692][\"yhat\"], label=\"predicted values\")\n",
    "plt.plot(b['y'], label=\"Actual values\" )\n",
    "plt.legend(loc=\"upper right\")\n",
    "plt.show()\n",
    "\n",
    "\n",
    "rmse_error = rmse(b['y'],forecast[:][\"yhat\"])\n",
    "mse_error = rmse_error**2\n",
    "#mean_value = df1['CaseCount'].mean()\n",
    "mape = mean_absolute_percentage_error(b['y'], abs(forecast[:][\"yhat\"]))\n",
    "mae = np.mean(np.abs(forecast[:][\"yhat\"] - b['y']))\n",
    "print(\"MAPE\",round(mape,4))\n",
    "print(f'MSE Error: {mse_error}\\nRMSE Error: {rmse_error}')\n",
    "print(\"MAE\",round(mae,4))"
   ]
  },
  {
   "cell_type": "code",
   "execution_count": 22,
   "metadata": {},
   "outputs": [
    {
     "ename": "ValueError",
     "evalue": "operands could not be broadcast together with shapes (633,) (197,) ",
     "output_type": "error",
     "traceback": [
      "\u001b[1;31m---------------------------------------------------------------------------\u001b[0m",
      "\u001b[1;31mValueError\u001b[0m                                Traceback (most recent call last)",
      "\u001b[1;32m<ipython-input-22-a4ec9a7432e8>\u001b[0m in \u001b[0;36m<module>\u001b[1;34m\u001b[0m\n\u001b[0;32m     13\u001b[0m \u001b[0mmse_error\u001b[0m \u001b[1;33m=\u001b[0m \u001b[0mrmse_error\u001b[0m\u001b[1;33m**\u001b[0m\u001b[1;36m2\u001b[0m\u001b[1;33m\u001b[0m\u001b[1;33m\u001b[0m\u001b[0m\n\u001b[0;32m     14\u001b[0m \u001b[1;31m#mean_value = df1['CaseCount'].mean()\u001b[0m\u001b[1;33m\u001b[0m\u001b[1;33m\u001b[0m\u001b[1;33m\u001b[0m\u001b[0m\n\u001b[1;32m---> 15\u001b[1;33m \u001b[0mmape\u001b[0m \u001b[1;33m=\u001b[0m \u001b[0mmean_absolute_percentage_error\u001b[0m\u001b[1;33m(\u001b[0m\u001b[0mtrain_data_pr\u001b[0m\u001b[1;33m[\u001b[0m\u001b[1;34m'y'\u001b[0m\u001b[1;33m]\u001b[0m\u001b[1;33m,\u001b[0m \u001b[0mabs\u001b[0m\u001b[1;33m(\u001b[0m\u001b[0mforecast\u001b[0m\u001b[1;33m[\u001b[0m\u001b[1;36m1\u001b[0m\u001b[1;33m:\u001b[0m\u001b[1;36m198\u001b[0m\u001b[1;33m]\u001b[0m\u001b[1;33m[\u001b[0m\u001b[1;34m\"yhat\"\u001b[0m\u001b[1;33m]\u001b[0m\u001b[1;33m)\u001b[0m\u001b[1;33m)\u001b[0m\u001b[1;33m\u001b[0m\u001b[1;33m\u001b[0m\u001b[0m\n\u001b[0m\u001b[0;32m     16\u001b[0m \u001b[0mmae\u001b[0m \u001b[1;33m=\u001b[0m \u001b[0mnp\u001b[0m\u001b[1;33m.\u001b[0m\u001b[0mmean\u001b[0m\u001b[1;33m(\u001b[0m\u001b[0mnp\u001b[0m\u001b[1;33m.\u001b[0m\u001b[0mabs\u001b[0m\u001b[1;33m(\u001b[0m\u001b[0mforecast\u001b[0m\u001b[1;33m[\u001b[0m\u001b[1;36m1\u001b[0m\u001b[1;33m:\u001b[0m\u001b[1;36m198\u001b[0m\u001b[1;33m]\u001b[0m\u001b[1;33m[\u001b[0m\u001b[1;34m\"yhat\"\u001b[0m\u001b[1;33m]\u001b[0m \u001b[1;33m-\u001b[0m \u001b[0mtrain_data_pr\u001b[0m\u001b[1;33m[\u001b[0m\u001b[1;34m'y'\u001b[0m\u001b[1;33m]\u001b[0m\u001b[1;33m)\u001b[0m\u001b[1;33m)\u001b[0m\u001b[1;33m\u001b[0m\u001b[1;33m\u001b[0m\u001b[0m\n\u001b[0;32m     17\u001b[0m \u001b[0mprint\u001b[0m\u001b[1;33m(\u001b[0m\u001b[1;34m\"MAPE\"\u001b[0m\u001b[1;33m,\u001b[0m\u001b[0mround\u001b[0m\u001b[1;33m(\u001b[0m\u001b[0mmape\u001b[0m\u001b[1;33m,\u001b[0m\u001b[1;36m4\u001b[0m\u001b[1;33m)\u001b[0m\u001b[1;33m)\u001b[0m\u001b[1;33m\u001b[0m\u001b[1;33m\u001b[0m\u001b[0m\n",
      "\u001b[1;32m<ipython-input-22-a4ec9a7432e8>\u001b[0m in \u001b[0;36mmean_absolute_percentage_error\u001b[1;34m(y_true, y_pred)\u001b[0m\n\u001b[0;32m      1\u001b[0m \u001b[1;32mdef\u001b[0m \u001b[0mmean_absolute_percentage_error\u001b[0m\u001b[1;33m(\u001b[0m\u001b[0my_true\u001b[0m\u001b[1;33m,\u001b[0m \u001b[0my_pred\u001b[0m\u001b[1;33m)\u001b[0m\u001b[1;33m:\u001b[0m\u001b[1;33m\u001b[0m\u001b[1;33m\u001b[0m\u001b[0m\n\u001b[0;32m      2\u001b[0m     \u001b[0my_true\u001b[0m\u001b[1;33m,\u001b[0m \u001b[0my_pred\u001b[0m \u001b[1;33m=\u001b[0m \u001b[0mnp\u001b[0m\u001b[1;33m.\u001b[0m\u001b[0marray\u001b[0m\u001b[1;33m(\u001b[0m\u001b[0my_true\u001b[0m\u001b[1;33m)\u001b[0m\u001b[1;33m,\u001b[0m \u001b[0mnp\u001b[0m\u001b[1;33m.\u001b[0m\u001b[0marray\u001b[0m\u001b[1;33m(\u001b[0m\u001b[0my_pred\u001b[0m\u001b[1;33m)\u001b[0m\u001b[1;33m\u001b[0m\u001b[1;33m\u001b[0m\u001b[0m\n\u001b[1;32m----> 3\u001b[1;33m     \u001b[1;32mreturn\u001b[0m \u001b[0mnp\u001b[0m\u001b[1;33m.\u001b[0m\u001b[0mmean\u001b[0m\u001b[1;33m(\u001b[0m\u001b[0mnp\u001b[0m\u001b[1;33m.\u001b[0m\u001b[0mabs\u001b[0m\u001b[1;33m(\u001b[0m\u001b[1;33m(\u001b[0m\u001b[0my_true\u001b[0m \u001b[1;33m-\u001b[0m \u001b[0my_pred\u001b[0m\u001b[1;33m)\u001b[0m \u001b[1;33m/\u001b[0m \u001b[0my_true\u001b[0m\u001b[1;33m)\u001b[0m\u001b[1;33m)\u001b[0m \u001b[1;33m*\u001b[0m \u001b[1;36m100\u001b[0m\u001b[1;33m\u001b[0m\u001b[1;33m\u001b[0m\u001b[0m\n\u001b[0m\u001b[0;32m      4\u001b[0m \u001b[1;33m\u001b[0m\u001b[0m\n\u001b[0;32m      5\u001b[0m \u001b[1;33m\u001b[0m\u001b[0m\n",
      "\u001b[1;31mValueError\u001b[0m: operands could not be broadcast together with shapes (633,) (197,) "
     ]
    }
   ],
   "source": [
    "def mean_absolute_percentage_error(y_true, y_pred): \n",
    "    y_true, y_pred = np.array(y_true), np.array(y_pred)\n",
    "    return np.mean(np.abs((y_true - y_pred) / y_true)) * 100\n",
    "\n",
    "\n",
    "from math import sqrt\n",
    "from sklearn.metrics import mean_squared_error\n",
    "def rmse(predictions, targets): \n",
    "    return np.sqrt(((predictions - targets) ** 2).mean())\n",
    "\n",
    "\n",
    "rmse_error = rmse(train_data_pr['y'],forecast[1:198][\"yhat\"])\n",
    "mse_error = rmse_error**2\n",
    "#mean_value = df1['CaseCount'].mean()\n",
    "mape = mean_absolute_percentage_error(train_data_pr['y'], abs(forecast[1:198][\"yhat\"]))\n",
    "mae = np.mean(np.abs(forecast[1:198][\"yhat\"] - train_data_pr['y']))\n",
    "print(\"MAPE\",round(mape,4))\n",
    "print(f'MSE Error: {mse_error}\\nRMSE Error: {rmse_error}')\n",
    "print(\"MAE\",round(mae,4))"
   ]
  },
  {
   "cell_type": "code",
   "execution_count": 42,
   "metadata": {},
   "outputs": [
    {
     "name": "stdout",
     "output_type": "stream",
     "text": [
      "199\n",
      "198\n"
     ]
    }
   ],
   "source": [
    "print(len(train_data_pr['y']))\n",
    "print(len(forecast))"
   ]
  },
  {
   "cell_type": "code",
   "execution_count": 16,
   "metadata": {},
   "outputs": [
    {
     "data": {
      "text/plain": [
       "30      30.660402\n",
       "31      28.905907\n",
       "32      20.288705\n",
       "33      21.974802\n",
       "34       8.390968\n",
       "          ...    \n",
       "254    140.121445\n",
       "255    129.826411\n",
       "256    113.441450\n",
       "257    108.333402\n",
       "258     89.102975\n",
       "Name: yhat, Length: 229, dtype: float64"
      ]
     },
     "execution_count": 16,
     "metadata": {},
     "output_type": "execute_result"
    }
   ],
   "source": [
    "forecast['yhat']"
   ]
  },
  {
   "cell_type": "code",
   "execution_count": 17,
   "metadata": {},
   "outputs": [
    {
     "name": "stdout",
     "output_type": "stream",
     "text": [
      "59.004057766581504\n"
     ]
    }
   ],
   "source": [
    "mae = np.mean(np.abs(forecast[-30:][\"yhat\"] -new['y'])) \n",
    "print(mae)"
   ]
  },
  {
   "cell_type": "code",
   "execution_count": 18,
   "metadata": {},
   "outputs": [
    {
     "name": "stdout",
     "output_type": "stream",
     "text": [
      "MAPE 28.113484217178108\n"
     ]
    }
   ],
   "source": [
    "MAPE = mean_absolute_percentage_error(new['y'],abs(forecast[-30:][\"yhat\"]))\n",
    "print('MAPE', MAPE)"
   ]
  },
  {
   "cell_type": "code",
   "execution_count": 32,
   "metadata": {},
   "outputs": [
    {
     "name": "stdout",
     "output_type": "stream",
     "text": [
      "MAPE 62.0441\n",
      "MSE Error: nan\n",
      "RMSE Error: nan\n",
      "MAE nan\n",
      "30\n"
     ]
    }
   ],
   "source": [
    "def mean_absolute_percentage_error(y_true, y_pred): \n",
    "    y_true, y_pred = np.array(y_true), np.array(y_pred)\n",
    "    return np.mean(np.abs((y_true - y_pred) / y_true)) * 100\n",
    "\n",
    "\n",
    "from math import sqrt\n",
    "from sklearn.metrics import mean_squared_error\n",
    "def rmse(predictions, targets): \n",
    "    return np.sqrt(((predictions - targets) ** 2).mean())\n",
    "\n",
    "\n",
    "rmse_error = rmse(new['y'],forecast[-30:][\"yhat\"])\n",
    "mse_error = rmse_error**2\n",
    "#mean_value = df1['CaseCount'].mean()\n",
    "mape = mean_absolute_percentage_error(new['y'], abs(forecast[-30:][\"yhat\"]))\n",
    "mae = np.mean(np.abs(forecast[-30:][\"yhat\"] - new['y']))\n",
    "print(\"MAPE\",round(mape,4))\n",
    "print(f'MSE Error: {mse_error}\\nRMSE Error: {rmse_error}')\n",
    "print(\"MAE\",round(mae,4))\n",
    "print(len(new['y']))\n"
   ]
  },
  {
   "cell_type": "code",
   "execution_count": null,
   "metadata": {},
   "outputs": [],
   "source": []
  }
 ],
 "metadata": {
  "kernelspec": {
   "display_name": "Python 3",
   "language": "python",
   "name": "python3"
  },
  "language_info": {
   "codemirror_mode": {
    "name": "ipython",
    "version": 3
   },
   "file_extension": ".py",
   "mimetype": "text/x-python",
   "name": "python",
   "nbconvert_exporter": "python",
   "pygments_lexer": "ipython3",
   "version": "3.7.4"
  }
 },
 "nbformat": 4,
 "nbformat_minor": 2
}
